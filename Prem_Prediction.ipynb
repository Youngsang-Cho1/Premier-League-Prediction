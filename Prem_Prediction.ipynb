{
 "cells": [
  {
   "cell_type": "markdown",
   "metadata": {},
   "source": [
    "# Premier League Prediction Project"
   ]
  },
  {
   "cell_type": "code",
   "execution_count": 2,
   "metadata": {},
   "outputs": [],
   "source": [
    "import requests\n",
    "import time\n",
    "import pandas as pd\n",
    "from bs4 import BeautifulSoup\n",
    "from selenium import webdriver\n",
    "\n",
    "stats_url = 'https://fbref.com/en/comps/9/Premier-League-Stats'"
   ]
  },
  {
   "cell_type": "markdown",
   "metadata": {},
   "source": [
    "### Accessing the website through Selenium to get data"
   ]
  },
  {
   "cell_type": "code",
   "execution_count": 3,
   "metadata": {},
   "outputs": [],
   "source": [
    "options = webdriver.ChromeOptions()\n",
    "options.add_argument(\"--headless\")\n",
    "driver = webdriver.Chrome(options = options)\n",
    "\n",
    "driver.get(stats_url)\n",
    "time.sleep(6)\n",
    "html = driver.page_source\n",
    "driver.quit()\n",
    "\n",
    "soup = BeautifulSoup(html, \"html.parser\")\n",
    "standing_table = soup.select_one(\"table.stats_table\") # we only need the first one among table.stats_table elements"
   ]
  },
  {
   "cell_type": "markdown",
   "metadata": {},
   "source": [
    "### Example of accessing each team's data"
   ]
  },
  {
   "cell_type": "code",
   "execution_count": 4,
   "metadata": {},
   "outputs": [
    {
     "data": {
      "text/plain": [
       "'https://fbref.com/en/squads/822bd0ba/2024-2025/Liverpool-Stats'"
      ]
     },
     "execution_count": 4,
     "metadata": {},
     "output_type": "execute_result"
    }
   ],
   "source": [
    "\n",
    "links = [l.get('href') for l in standing_table.find_all('a') if '/squads' in l.get('href')] # parse the team_url from Premier League Standings Table\n",
    "team_url = [f'https://fbref.com{link}' for link in links]\n",
    "liverpool_url = team_url[0] # first team (winner) of season 2024-2025\n",
    "liverpool_url\n"
   ]
  },
  {
   "cell_type": "code",
   "execution_count": 5,
   "metadata": {},
   "outputs": [
    {
     "name": "stdout",
     "output_type": "stream",
     "text": [
      "         Date           Time            Comp         Round  Day Venue Result  \\\n",
      "0  2024-08-17  12:30 (20:30)  Premier League   Matchweek 1  Sat  Away      W   \n",
      "1  2024-08-25  16:30 (00:30)  Premier League   Matchweek 2  Sun  Home      W   \n",
      "2  2024-09-01  16:00 (00:00)  Premier League   Matchweek 3  Sun  Away      W   \n",
      "3  2024-09-14  15:00 (23:00)  Premier League   Matchweek 4  Sat  Home      L   \n",
      "4  2024-09-17  21:00 (04:00)    Champions Lg  League phase  Tue  Away      W   \n",
      "\n",
      "  GF GA         Opponent   xG  xGA Poss Attendance          Captain Formation  \\\n",
      "0  2  0     Ipswich Town  2.6  0.5   62      30014  Virgil van Dijk   4-2-3-1   \n",
      "1  2  0        Brentford  2.5  0.5   62      60017  Virgil van Dijk   4-2-3-1   \n",
      "2  3  0   Manchester Utd  1.8  1.4   47      73738  Virgil van Dijk   4-2-3-1   \n",
      "3  0  1  Nott'ham Forest  0.9  0.4   68      60344  Virgil van Dijk   4-2-3-1   \n",
      "4  3  1         it Milan  3.1  0.6   51      59826  Virgil van Dijk   4-2-3-1   \n",
      "\n",
      "  Opp Formation         Referee  Match Report Notes  \n",
      "0       4-2-3-1    Tim Robinson  Match Report   NaN  \n",
      "1         4-4-2  Stuart Attwell  Match Report   NaN  \n",
      "2       4-2-3-1  Anthony Taylor  Match Report   NaN  \n",
      "3       4-2-3-1  Michael Oliver  Match Report   NaN  \n",
      "4       4-2-3-1     Espen Eskås  Match Report   NaN  \n"
     ]
    },
    {
     "name": "stderr",
     "output_type": "stream",
     "text": [
      "/var/folders/q1/xzbrckf15fjgp4bmp0y5w4ww0000gn/T/ipykernel_6653/3244783434.py:10: FutureWarning: Passing literal html to 'read_html' is deprecated and will be removed in a future version. To read from a literal string, wrap it in a 'StringIO' object.\n",
      "  liverpool_df = pd.read_html(liverpool_html, match=\"Scores & Fixtures\")[0] # get the team's Scores & Fixtures table and convert it to pandas df\n"
     ]
    }
   ],
   "source": [
    "options = webdriver.ChromeOptions()\n",
    "options.add_argument('--headless')\n",
    "driver = webdriver.Chrome(options = options)\n",
    "\n",
    "driver.get(liverpool_url)\n",
    "time.sleep(6)\n",
    "liverpool_html = driver.page_source\n",
    "driver.quit()\n",
    "\n",
    "liverpool_df = pd.read_html(liverpool_html, match=\"Scores & Fixtures\")[0] # get the team's Scores & Fixtures table and convert it to pandas df\n",
    "print(liverpool_df.head())"
   ]
  },
  {
   "cell_type": "markdown",
   "metadata": {},
   "source": [
    "## Getting All Team's Data Using Same Method"
   ]
  },
  {
   "cell_type": "code",
   "execution_count": 35,
   "metadata": {},
   "outputs": [
    {
     "name": "stderr",
     "output_type": "stream",
     "text": [
      "/var/folders/q1/xzbrckf15fjgp4bmp0y5w4ww0000gn/T/ipykernel_6653/541128076.py:27: FutureWarning: Passing literal html to 'read_html' is deprecated and will be removed in a future version. To read from a literal string, wrap it in a 'StringIO' object.\n",
      "  scores_fixtures_table = pd.read_html(html, match = 'Scores & Fixtures')[0]\n"
     ]
    },
    {
     "name": "stdout",
     "output_type": "stream",
     "text": [
      "https://fbref.com/en/squads/b8fd03ef/2023-2024/matchlogs/all_comps/shooting/Manchester-City-Match-Logs-All-Competitions\n"
     ]
    },
    {
     "name": "stderr",
     "output_type": "stream",
     "text": [
      "/var/folders/q1/xzbrckf15fjgp4bmp0y5w4ww0000gn/T/ipykernel_6653/541128076.py:38: FutureWarning: Passing literal html to 'read_html' is deprecated and will be removed in a future version. To read from a literal string, wrap it in a 'StringIO' object.\n",
      "  shooting_table = pd.read_html(shooting_html, attrs = {'id': 'matchlogs_for'})[0]\n"
     ]
    },
    {
     "name": "stdout",
     "output_type": "stream",
     "text": [
      "https://fbref.com/en/squads/b8fd03ef/2023-2024/matchlogs/all_comps/defense/Manchester-City-Match-Logs-All-Competitions\n"
     ]
    },
    {
     "name": "stderr",
     "output_type": "stream",
     "text": [
      "/var/folders/q1/xzbrckf15fjgp4bmp0y5w4ww0000gn/T/ipykernel_6653/541128076.py:52: FutureWarning: Passing literal html to 'read_html' is deprecated and will be removed in a future version. To read from a literal string, wrap it in a 'StringIO' object.\n",
      "  defense_table = pd.read_html(defense_html, attrs = {'id': 'matchlogs_for'})[0]\n",
      "/var/folders/q1/xzbrckf15fjgp4bmp0y5w4ww0000gn/T/ipykernel_6653/541128076.py:27: FutureWarning: Passing literal html to 'read_html' is deprecated and will be removed in a future version. To read from a literal string, wrap it in a 'StringIO' object.\n",
      "  scores_fixtures_table = pd.read_html(html, match = 'Scores & Fixtures')[0]\n"
     ]
    },
    {
     "name": "stdout",
     "output_type": "stream",
     "text": [
      "https://fbref.com/en/squads/18bb7c10/2023-2024/matchlogs/all_comps/shooting/Arsenal-Match-Logs-All-Competitions\n"
     ]
    },
    {
     "name": "stderr",
     "output_type": "stream",
     "text": [
      "/var/folders/q1/xzbrckf15fjgp4bmp0y5w4ww0000gn/T/ipykernel_6653/541128076.py:38: FutureWarning: Passing literal html to 'read_html' is deprecated and will be removed in a future version. To read from a literal string, wrap it in a 'StringIO' object.\n",
      "  shooting_table = pd.read_html(shooting_html, attrs = {'id': 'matchlogs_for'})[0]\n"
     ]
    },
    {
     "name": "stdout",
     "output_type": "stream",
     "text": [
      "https://fbref.com/en/squads/18bb7c10/2023-2024/matchlogs/all_comps/defense/Arsenal-Match-Logs-All-Competitions\n"
     ]
    },
    {
     "name": "stderr",
     "output_type": "stream",
     "text": [
      "/var/folders/q1/xzbrckf15fjgp4bmp0y5w4ww0000gn/T/ipykernel_6653/541128076.py:52: FutureWarning: Passing literal html to 'read_html' is deprecated and will be removed in a future version. To read from a literal string, wrap it in a 'StringIO' object.\n",
      "  defense_table = pd.read_html(defense_html, attrs = {'id': 'matchlogs_for'})[0]\n",
      "/var/folders/q1/xzbrckf15fjgp4bmp0y5w4ww0000gn/T/ipykernel_6653/541128076.py:27: FutureWarning: Passing literal html to 'read_html' is deprecated and will be removed in a future version. To read from a literal string, wrap it in a 'StringIO' object.\n",
      "  scores_fixtures_table = pd.read_html(html, match = 'Scores & Fixtures')[0]\n"
     ]
    },
    {
     "name": "stdout",
     "output_type": "stream",
     "text": [
      "https://fbref.com/en/squads/822bd0ba/2023-2024/matchlogs/all_comps/shooting/Liverpool-Match-Logs-All-Competitions\n"
     ]
    },
    {
     "name": "stderr",
     "output_type": "stream",
     "text": [
      "/var/folders/q1/xzbrckf15fjgp4bmp0y5w4ww0000gn/T/ipykernel_6653/541128076.py:38: FutureWarning: Passing literal html to 'read_html' is deprecated and will be removed in a future version. To read from a literal string, wrap it in a 'StringIO' object.\n",
      "  shooting_table = pd.read_html(shooting_html, attrs = {'id': 'matchlogs_for'})[0]\n"
     ]
    },
    {
     "name": "stdout",
     "output_type": "stream",
     "text": [
      "https://fbref.com/en/squads/822bd0ba/2023-2024/matchlogs/all_comps/defense/Liverpool-Match-Logs-All-Competitions\n"
     ]
    },
    {
     "name": "stderr",
     "output_type": "stream",
     "text": [
      "/var/folders/q1/xzbrckf15fjgp4bmp0y5w4ww0000gn/T/ipykernel_6653/541128076.py:52: FutureWarning: Passing literal html to 'read_html' is deprecated and will be removed in a future version. To read from a literal string, wrap it in a 'StringIO' object.\n",
      "  defense_table = pd.read_html(defense_html, attrs = {'id': 'matchlogs_for'})[0]\n",
      "/var/folders/q1/xzbrckf15fjgp4bmp0y5w4ww0000gn/T/ipykernel_6653/541128076.py:27: FutureWarning: Passing literal html to 'read_html' is deprecated and will be removed in a future version. To read from a literal string, wrap it in a 'StringIO' object.\n",
      "  scores_fixtures_table = pd.read_html(html, match = 'Scores & Fixtures')[0]\n"
     ]
    },
    {
     "name": "stdout",
     "output_type": "stream",
     "text": [
      "https://fbref.com/en/squads/8602292d/2023-2024/matchlogs/all_comps/shooting/Aston-Villa-Match-Logs-All-Competitions\n"
     ]
    },
    {
     "name": "stderr",
     "output_type": "stream",
     "text": [
      "/var/folders/q1/xzbrckf15fjgp4bmp0y5w4ww0000gn/T/ipykernel_6653/541128076.py:38: FutureWarning: Passing literal html to 'read_html' is deprecated and will be removed in a future version. To read from a literal string, wrap it in a 'StringIO' object.\n",
      "  shooting_table = pd.read_html(shooting_html, attrs = {'id': 'matchlogs_for'})[0]\n"
     ]
    },
    {
     "name": "stdout",
     "output_type": "stream",
     "text": [
      "https://fbref.com/en/squads/8602292d/2023-2024/matchlogs/all_comps/defense/Aston-Villa-Match-Logs-All-Competitions\n"
     ]
    },
    {
     "name": "stderr",
     "output_type": "stream",
     "text": [
      "/var/folders/q1/xzbrckf15fjgp4bmp0y5w4ww0000gn/T/ipykernel_6653/541128076.py:52: FutureWarning: Passing literal html to 'read_html' is deprecated and will be removed in a future version. To read from a literal string, wrap it in a 'StringIO' object.\n",
      "  defense_table = pd.read_html(defense_html, attrs = {'id': 'matchlogs_for'})[0]\n",
      "/var/folders/q1/xzbrckf15fjgp4bmp0y5w4ww0000gn/T/ipykernel_6653/541128076.py:27: FutureWarning: Passing literal html to 'read_html' is deprecated and will be removed in a future version. To read from a literal string, wrap it in a 'StringIO' object.\n",
      "  scores_fixtures_table = pd.read_html(html, match = 'Scores & Fixtures')[0]\n"
     ]
    },
    {
     "name": "stdout",
     "output_type": "stream",
     "text": [
      "https://fbref.com/en/squads/361ca564/2023-2024/matchlogs/all_comps/shooting/Tottenham-Hotspur-Match-Logs-All-Competitions\n"
     ]
    },
    {
     "name": "stderr",
     "output_type": "stream",
     "text": [
      "/var/folders/q1/xzbrckf15fjgp4bmp0y5w4ww0000gn/T/ipykernel_6653/541128076.py:38: FutureWarning: Passing literal html to 'read_html' is deprecated and will be removed in a future version. To read from a literal string, wrap it in a 'StringIO' object.\n",
      "  shooting_table = pd.read_html(shooting_html, attrs = {'id': 'matchlogs_for'})[0]\n"
     ]
    },
    {
     "name": "stdout",
     "output_type": "stream",
     "text": [
      "https://fbref.com/en/squads/361ca564/2023-2024/matchlogs/all_comps/defense/Tottenham-Hotspur-Match-Logs-All-Competitions\n"
     ]
    },
    {
     "name": "stderr",
     "output_type": "stream",
     "text": [
      "/var/folders/q1/xzbrckf15fjgp4bmp0y5w4ww0000gn/T/ipykernel_6653/541128076.py:52: FutureWarning: Passing literal html to 'read_html' is deprecated and will be removed in a future version. To read from a literal string, wrap it in a 'StringIO' object.\n",
      "  defense_table = pd.read_html(defense_html, attrs = {'id': 'matchlogs_for'})[0]\n",
      "/var/folders/q1/xzbrckf15fjgp4bmp0y5w4ww0000gn/T/ipykernel_6653/541128076.py:27: FutureWarning: Passing literal html to 'read_html' is deprecated and will be removed in a future version. To read from a literal string, wrap it in a 'StringIO' object.\n",
      "  scores_fixtures_table = pd.read_html(html, match = 'Scores & Fixtures')[0]\n"
     ]
    },
    {
     "name": "stdout",
     "output_type": "stream",
     "text": [
      "https://fbref.com/en/squads/cff3d9bb/2023-2024/matchlogs/all_comps/shooting/Chelsea-Match-Logs-All-Competitions\n"
     ]
    },
    {
     "name": "stderr",
     "output_type": "stream",
     "text": [
      "/var/folders/q1/xzbrckf15fjgp4bmp0y5w4ww0000gn/T/ipykernel_6653/541128076.py:38: FutureWarning: Passing literal html to 'read_html' is deprecated and will be removed in a future version. To read from a literal string, wrap it in a 'StringIO' object.\n",
      "  shooting_table = pd.read_html(shooting_html, attrs = {'id': 'matchlogs_for'})[0]\n"
     ]
    },
    {
     "name": "stdout",
     "output_type": "stream",
     "text": [
      "https://fbref.com/en/squads/cff3d9bb/2023-2024/matchlogs/all_comps/defense/Chelsea-Match-Logs-All-Competitions\n"
     ]
    },
    {
     "name": "stderr",
     "output_type": "stream",
     "text": [
      "/var/folders/q1/xzbrckf15fjgp4bmp0y5w4ww0000gn/T/ipykernel_6653/541128076.py:52: FutureWarning: Passing literal html to 'read_html' is deprecated and will be removed in a future version. To read from a literal string, wrap it in a 'StringIO' object.\n",
      "  defense_table = pd.read_html(defense_html, attrs = {'id': 'matchlogs_for'})[0]\n",
      "/var/folders/q1/xzbrckf15fjgp4bmp0y5w4ww0000gn/T/ipykernel_6653/541128076.py:27: FutureWarning: Passing literal html to 'read_html' is deprecated and will be removed in a future version. To read from a literal string, wrap it in a 'StringIO' object.\n",
      "  scores_fixtures_table = pd.read_html(html, match = 'Scores & Fixtures')[0]\n"
     ]
    },
    {
     "name": "stdout",
     "output_type": "stream",
     "text": [
      "https://fbref.com/en/squads/b2b47a98/2023-2024/matchlogs/all_comps/shooting/Newcastle-United-Match-Logs-All-Competitions\n"
     ]
    },
    {
     "name": "stderr",
     "output_type": "stream",
     "text": [
      "/var/folders/q1/xzbrckf15fjgp4bmp0y5w4ww0000gn/T/ipykernel_6653/541128076.py:38: FutureWarning: Passing literal html to 'read_html' is deprecated and will be removed in a future version. To read from a literal string, wrap it in a 'StringIO' object.\n",
      "  shooting_table = pd.read_html(shooting_html, attrs = {'id': 'matchlogs_for'})[0]\n"
     ]
    },
    {
     "name": "stdout",
     "output_type": "stream",
     "text": [
      "https://fbref.com/en/squads/b2b47a98/2023-2024/matchlogs/all_comps/defense/Newcastle-United-Match-Logs-All-Competitions\n"
     ]
    },
    {
     "name": "stderr",
     "output_type": "stream",
     "text": [
      "/var/folders/q1/xzbrckf15fjgp4bmp0y5w4ww0000gn/T/ipykernel_6653/541128076.py:52: FutureWarning: Passing literal html to 'read_html' is deprecated and will be removed in a future version. To read from a literal string, wrap it in a 'StringIO' object.\n",
      "  defense_table = pd.read_html(defense_html, attrs = {'id': 'matchlogs_for'})[0]\n",
      "/var/folders/q1/xzbrckf15fjgp4bmp0y5w4ww0000gn/T/ipykernel_6653/541128076.py:27: FutureWarning: Passing literal html to 'read_html' is deprecated and will be removed in a future version. To read from a literal string, wrap it in a 'StringIO' object.\n",
      "  scores_fixtures_table = pd.read_html(html, match = 'Scores & Fixtures')[0]\n"
     ]
    },
    {
     "name": "stdout",
     "output_type": "stream",
     "text": [
      "https://fbref.com/en/squads/19538871/2023-2024/matchlogs/all_comps/shooting/Manchester-United-Match-Logs-All-Competitions\n"
     ]
    },
    {
     "name": "stderr",
     "output_type": "stream",
     "text": [
      "/var/folders/q1/xzbrckf15fjgp4bmp0y5w4ww0000gn/T/ipykernel_6653/541128076.py:38: FutureWarning: Passing literal html to 'read_html' is deprecated and will be removed in a future version. To read from a literal string, wrap it in a 'StringIO' object.\n",
      "  shooting_table = pd.read_html(shooting_html, attrs = {'id': 'matchlogs_for'})[0]\n"
     ]
    },
    {
     "name": "stdout",
     "output_type": "stream",
     "text": [
      "https://fbref.com/en/squads/19538871/2023-2024/matchlogs/all_comps/defense/Manchester-United-Match-Logs-All-Competitions\n"
     ]
    },
    {
     "name": "stderr",
     "output_type": "stream",
     "text": [
      "/var/folders/q1/xzbrckf15fjgp4bmp0y5w4ww0000gn/T/ipykernel_6653/541128076.py:52: FutureWarning: Passing literal html to 'read_html' is deprecated and will be removed in a future version. To read from a literal string, wrap it in a 'StringIO' object.\n",
      "  defense_table = pd.read_html(defense_html, attrs = {'id': 'matchlogs_for'})[0]\n",
      "/var/folders/q1/xzbrckf15fjgp4bmp0y5w4ww0000gn/T/ipykernel_6653/541128076.py:27: FutureWarning: Passing literal html to 'read_html' is deprecated and will be removed in a future version. To read from a literal string, wrap it in a 'StringIO' object.\n",
      "  scores_fixtures_table = pd.read_html(html, match = 'Scores & Fixtures')[0]\n"
     ]
    },
    {
     "name": "stdout",
     "output_type": "stream",
     "text": [
      "https://fbref.com/en/squads/7c21e445/2023-2024/matchlogs/all_comps/shooting/West-Ham-United-Match-Logs-All-Competitions\n"
     ]
    },
    {
     "name": "stderr",
     "output_type": "stream",
     "text": [
      "/var/folders/q1/xzbrckf15fjgp4bmp0y5w4ww0000gn/T/ipykernel_6653/541128076.py:38: FutureWarning: Passing literal html to 'read_html' is deprecated and will be removed in a future version. To read from a literal string, wrap it in a 'StringIO' object.\n",
      "  shooting_table = pd.read_html(shooting_html, attrs = {'id': 'matchlogs_for'})[0]\n"
     ]
    },
    {
     "name": "stdout",
     "output_type": "stream",
     "text": [
      "https://fbref.com/en/squads/7c21e445/2023-2024/matchlogs/all_comps/defense/West-Ham-United-Match-Logs-All-Competitions\n"
     ]
    },
    {
     "name": "stderr",
     "output_type": "stream",
     "text": [
      "/var/folders/q1/xzbrckf15fjgp4bmp0y5w4ww0000gn/T/ipykernel_6653/541128076.py:52: FutureWarning: Passing literal html to 'read_html' is deprecated and will be removed in a future version. To read from a literal string, wrap it in a 'StringIO' object.\n",
      "  defense_table = pd.read_html(defense_html, attrs = {'id': 'matchlogs_for'})[0]\n",
      "/var/folders/q1/xzbrckf15fjgp4bmp0y5w4ww0000gn/T/ipykernel_6653/541128076.py:27: FutureWarning: Passing literal html to 'read_html' is deprecated and will be removed in a future version. To read from a literal string, wrap it in a 'StringIO' object.\n",
      "  scores_fixtures_table = pd.read_html(html, match = 'Scores & Fixtures')[0]\n"
     ]
    },
    {
     "name": "stdout",
     "output_type": "stream",
     "text": [
      "https://fbref.com/en/squads/47c64c55/2023-2024/matchlogs/all_comps/shooting/Crystal-Palace-Match-Logs-All-Competitions\n"
     ]
    },
    {
     "name": "stderr",
     "output_type": "stream",
     "text": [
      "/var/folders/q1/xzbrckf15fjgp4bmp0y5w4ww0000gn/T/ipykernel_6653/541128076.py:38: FutureWarning: Passing literal html to 'read_html' is deprecated and will be removed in a future version. To read from a literal string, wrap it in a 'StringIO' object.\n",
      "  shooting_table = pd.read_html(shooting_html, attrs = {'id': 'matchlogs_for'})[0]\n"
     ]
    },
    {
     "name": "stdout",
     "output_type": "stream",
     "text": [
      "https://fbref.com/en/squads/47c64c55/2023-2024/matchlogs/all_comps/defense/Crystal-Palace-Match-Logs-All-Competitions\n"
     ]
    },
    {
     "name": "stderr",
     "output_type": "stream",
     "text": [
      "/var/folders/q1/xzbrckf15fjgp4bmp0y5w4ww0000gn/T/ipykernel_6653/541128076.py:52: FutureWarning: Passing literal html to 'read_html' is deprecated and will be removed in a future version. To read from a literal string, wrap it in a 'StringIO' object.\n",
      "  defense_table = pd.read_html(defense_html, attrs = {'id': 'matchlogs_for'})[0]\n",
      "/var/folders/q1/xzbrckf15fjgp4bmp0y5w4ww0000gn/T/ipykernel_6653/541128076.py:27: FutureWarning: Passing literal html to 'read_html' is deprecated and will be removed in a future version. To read from a literal string, wrap it in a 'StringIO' object.\n",
      "  scores_fixtures_table = pd.read_html(html, match = 'Scores & Fixtures')[0]\n"
     ]
    },
    {
     "name": "stdout",
     "output_type": "stream",
     "text": [
      "https://fbref.com/en/squads/d07537b9/2023-2024/matchlogs/all_comps/shooting/Brighton-and-Hove-Albion-Match-Logs-All-Competitions\n"
     ]
    },
    {
     "name": "stderr",
     "output_type": "stream",
     "text": [
      "/var/folders/q1/xzbrckf15fjgp4bmp0y5w4ww0000gn/T/ipykernel_6653/541128076.py:38: FutureWarning: Passing literal html to 'read_html' is deprecated and will be removed in a future version. To read from a literal string, wrap it in a 'StringIO' object.\n",
      "  shooting_table = pd.read_html(shooting_html, attrs = {'id': 'matchlogs_for'})[0]\n"
     ]
    },
    {
     "name": "stdout",
     "output_type": "stream",
     "text": [
      "https://fbref.com/en/squads/d07537b9/2023-2024/matchlogs/all_comps/defense/Brighton-and-Hove-Albion-Match-Logs-All-Competitions\n"
     ]
    },
    {
     "name": "stderr",
     "output_type": "stream",
     "text": [
      "/var/folders/q1/xzbrckf15fjgp4bmp0y5w4ww0000gn/T/ipykernel_6653/541128076.py:52: FutureWarning: Passing literal html to 'read_html' is deprecated and will be removed in a future version. To read from a literal string, wrap it in a 'StringIO' object.\n",
      "  defense_table = pd.read_html(defense_html, attrs = {'id': 'matchlogs_for'})[0]\n",
      "/var/folders/q1/xzbrckf15fjgp4bmp0y5w4ww0000gn/T/ipykernel_6653/541128076.py:27: FutureWarning: Passing literal html to 'read_html' is deprecated and will be removed in a future version. To read from a literal string, wrap it in a 'StringIO' object.\n",
      "  scores_fixtures_table = pd.read_html(html, match = 'Scores & Fixtures')[0]\n"
     ]
    },
    {
     "name": "stdout",
     "output_type": "stream",
     "text": [
      "https://fbref.com/en/squads/4ba7cbea/2023-2024/matchlogs/all_comps/shooting/Bournemouth-Match-Logs-All-Competitions\n"
     ]
    },
    {
     "name": "stderr",
     "output_type": "stream",
     "text": [
      "/var/folders/q1/xzbrckf15fjgp4bmp0y5w4ww0000gn/T/ipykernel_6653/541128076.py:38: FutureWarning: Passing literal html to 'read_html' is deprecated and will be removed in a future version. To read from a literal string, wrap it in a 'StringIO' object.\n",
      "  shooting_table = pd.read_html(shooting_html, attrs = {'id': 'matchlogs_for'})[0]\n"
     ]
    },
    {
     "name": "stdout",
     "output_type": "stream",
     "text": [
      "https://fbref.com/en/squads/4ba7cbea/2023-2024/matchlogs/all_comps/defense/Bournemouth-Match-Logs-All-Competitions\n"
     ]
    },
    {
     "name": "stderr",
     "output_type": "stream",
     "text": [
      "/var/folders/q1/xzbrckf15fjgp4bmp0y5w4ww0000gn/T/ipykernel_6653/541128076.py:52: FutureWarning: Passing literal html to 'read_html' is deprecated and will be removed in a future version. To read from a literal string, wrap it in a 'StringIO' object.\n",
      "  defense_table = pd.read_html(defense_html, attrs = {'id': 'matchlogs_for'})[0]\n",
      "/var/folders/q1/xzbrckf15fjgp4bmp0y5w4ww0000gn/T/ipykernel_6653/541128076.py:27: FutureWarning: Passing literal html to 'read_html' is deprecated and will be removed in a future version. To read from a literal string, wrap it in a 'StringIO' object.\n",
      "  scores_fixtures_table = pd.read_html(html, match = 'Scores & Fixtures')[0]\n"
     ]
    },
    {
     "name": "stdout",
     "output_type": "stream",
     "text": [
      "https://fbref.com/en/squads/fd962109/2023-2024/matchlogs/all_comps/shooting/Fulham-Match-Logs-All-Competitions\n"
     ]
    },
    {
     "name": "stderr",
     "output_type": "stream",
     "text": [
      "/var/folders/q1/xzbrckf15fjgp4bmp0y5w4ww0000gn/T/ipykernel_6653/541128076.py:38: FutureWarning: Passing literal html to 'read_html' is deprecated and will be removed in a future version. To read from a literal string, wrap it in a 'StringIO' object.\n",
      "  shooting_table = pd.read_html(shooting_html, attrs = {'id': 'matchlogs_for'})[0]\n"
     ]
    },
    {
     "name": "stdout",
     "output_type": "stream",
     "text": [
      "https://fbref.com/en/squads/fd962109/2023-2024/matchlogs/all_comps/defense/Fulham-Match-Logs-All-Competitions\n"
     ]
    },
    {
     "name": "stderr",
     "output_type": "stream",
     "text": [
      "/var/folders/q1/xzbrckf15fjgp4bmp0y5w4ww0000gn/T/ipykernel_6653/541128076.py:52: FutureWarning: Passing literal html to 'read_html' is deprecated and will be removed in a future version. To read from a literal string, wrap it in a 'StringIO' object.\n",
      "  defense_table = pd.read_html(defense_html, attrs = {'id': 'matchlogs_for'})[0]\n",
      "/var/folders/q1/xzbrckf15fjgp4bmp0y5w4ww0000gn/T/ipykernel_6653/541128076.py:27: FutureWarning: Passing literal html to 'read_html' is deprecated and will be removed in a future version. To read from a literal string, wrap it in a 'StringIO' object.\n",
      "  scores_fixtures_table = pd.read_html(html, match = 'Scores & Fixtures')[0]\n"
     ]
    },
    {
     "name": "stdout",
     "output_type": "stream",
     "text": [
      "https://fbref.com/en/squads/8cec06e1/2023-2024/matchlogs/all_comps/shooting/Wolverhampton-Wanderers-Match-Logs-All-Competitions\n"
     ]
    },
    {
     "name": "stderr",
     "output_type": "stream",
     "text": [
      "/var/folders/q1/xzbrckf15fjgp4bmp0y5w4ww0000gn/T/ipykernel_6653/541128076.py:38: FutureWarning: Passing literal html to 'read_html' is deprecated and will be removed in a future version. To read from a literal string, wrap it in a 'StringIO' object.\n",
      "  shooting_table = pd.read_html(shooting_html, attrs = {'id': 'matchlogs_for'})[0]\n"
     ]
    },
    {
     "name": "stdout",
     "output_type": "stream",
     "text": [
      "https://fbref.com/en/squads/8cec06e1/2023-2024/matchlogs/all_comps/defense/Wolverhampton-Wanderers-Match-Logs-All-Competitions\n"
     ]
    },
    {
     "name": "stderr",
     "output_type": "stream",
     "text": [
      "/var/folders/q1/xzbrckf15fjgp4bmp0y5w4ww0000gn/T/ipykernel_6653/541128076.py:52: FutureWarning: Passing literal html to 'read_html' is deprecated and will be removed in a future version. To read from a literal string, wrap it in a 'StringIO' object.\n",
      "  defense_table = pd.read_html(defense_html, attrs = {'id': 'matchlogs_for'})[0]\n",
      "/var/folders/q1/xzbrckf15fjgp4bmp0y5w4ww0000gn/T/ipykernel_6653/541128076.py:27: FutureWarning: Passing literal html to 'read_html' is deprecated and will be removed in a future version. To read from a literal string, wrap it in a 'StringIO' object.\n",
      "  scores_fixtures_table = pd.read_html(html, match = 'Scores & Fixtures')[0]\n"
     ]
    },
    {
     "name": "stdout",
     "output_type": "stream",
     "text": [
      "https://fbref.com/en/squads/d3fd31cc/2023-2024/matchlogs/all_comps/shooting/Everton-Match-Logs-All-Competitions\n"
     ]
    },
    {
     "name": "stderr",
     "output_type": "stream",
     "text": [
      "/var/folders/q1/xzbrckf15fjgp4bmp0y5w4ww0000gn/T/ipykernel_6653/541128076.py:38: FutureWarning: Passing literal html to 'read_html' is deprecated and will be removed in a future version. To read from a literal string, wrap it in a 'StringIO' object.\n",
      "  shooting_table = pd.read_html(shooting_html, attrs = {'id': 'matchlogs_for'})[0]\n"
     ]
    },
    {
     "name": "stdout",
     "output_type": "stream",
     "text": [
      "https://fbref.com/en/squads/d3fd31cc/2023-2024/matchlogs/all_comps/defense/Everton-Match-Logs-All-Competitions\n"
     ]
    },
    {
     "name": "stderr",
     "output_type": "stream",
     "text": [
      "/var/folders/q1/xzbrckf15fjgp4bmp0y5w4ww0000gn/T/ipykernel_6653/541128076.py:52: FutureWarning: Passing literal html to 'read_html' is deprecated and will be removed in a future version. To read from a literal string, wrap it in a 'StringIO' object.\n",
      "  defense_table = pd.read_html(defense_html, attrs = {'id': 'matchlogs_for'})[0]\n",
      "/var/folders/q1/xzbrckf15fjgp4bmp0y5w4ww0000gn/T/ipykernel_6653/541128076.py:27: FutureWarning: Passing literal html to 'read_html' is deprecated and will be removed in a future version. To read from a literal string, wrap it in a 'StringIO' object.\n",
      "  scores_fixtures_table = pd.read_html(html, match = 'Scores & Fixtures')[0]\n"
     ]
    },
    {
     "name": "stdout",
     "output_type": "stream",
     "text": [
      "https://fbref.com/en/squads/cd051869/2023-2024/matchlogs/all_comps/shooting/Brentford-Match-Logs-All-Competitions\n"
     ]
    },
    {
     "name": "stderr",
     "output_type": "stream",
     "text": [
      "/var/folders/q1/xzbrckf15fjgp4bmp0y5w4ww0000gn/T/ipykernel_6653/541128076.py:38: FutureWarning: Passing literal html to 'read_html' is deprecated and will be removed in a future version. To read from a literal string, wrap it in a 'StringIO' object.\n",
      "  shooting_table = pd.read_html(shooting_html, attrs = {'id': 'matchlogs_for'})[0]\n"
     ]
    },
    {
     "name": "stdout",
     "output_type": "stream",
     "text": [
      "https://fbref.com/en/squads/cd051869/2023-2024/matchlogs/all_comps/defense/Brentford-Match-Logs-All-Competitions\n"
     ]
    },
    {
     "name": "stderr",
     "output_type": "stream",
     "text": [
      "/var/folders/q1/xzbrckf15fjgp4bmp0y5w4ww0000gn/T/ipykernel_6653/541128076.py:52: FutureWarning: Passing literal html to 'read_html' is deprecated and will be removed in a future version. To read from a literal string, wrap it in a 'StringIO' object.\n",
      "  defense_table = pd.read_html(defense_html, attrs = {'id': 'matchlogs_for'})[0]\n",
      "/var/folders/q1/xzbrckf15fjgp4bmp0y5w4ww0000gn/T/ipykernel_6653/541128076.py:27: FutureWarning: Passing literal html to 'read_html' is deprecated and will be removed in a future version. To read from a literal string, wrap it in a 'StringIO' object.\n",
      "  scores_fixtures_table = pd.read_html(html, match = 'Scores & Fixtures')[0]\n"
     ]
    },
    {
     "name": "stdout",
     "output_type": "stream",
     "text": [
      "https://fbref.com/en/squads/e4a775cb/2023-2024/matchlogs/all_comps/shooting/Nottingham-Forest-Match-Logs-All-Competitions\n"
     ]
    },
    {
     "name": "stderr",
     "output_type": "stream",
     "text": [
      "/var/folders/q1/xzbrckf15fjgp4bmp0y5w4ww0000gn/T/ipykernel_6653/541128076.py:38: FutureWarning: Passing literal html to 'read_html' is deprecated and will be removed in a future version. To read from a literal string, wrap it in a 'StringIO' object.\n",
      "  shooting_table = pd.read_html(shooting_html, attrs = {'id': 'matchlogs_for'})[0]\n"
     ]
    },
    {
     "name": "stdout",
     "output_type": "stream",
     "text": [
      "https://fbref.com/en/squads/e4a775cb/2023-2024/matchlogs/all_comps/defense/Nottingham-Forest-Match-Logs-All-Competitions\n"
     ]
    },
    {
     "name": "stderr",
     "output_type": "stream",
     "text": [
      "/var/folders/q1/xzbrckf15fjgp4bmp0y5w4ww0000gn/T/ipykernel_6653/541128076.py:52: FutureWarning: Passing literal html to 'read_html' is deprecated and will be removed in a future version. To read from a literal string, wrap it in a 'StringIO' object.\n",
      "  defense_table = pd.read_html(defense_html, attrs = {'id': 'matchlogs_for'})[0]\n",
      "/var/folders/q1/xzbrckf15fjgp4bmp0y5w4ww0000gn/T/ipykernel_6653/541128076.py:27: FutureWarning: Passing literal html to 'read_html' is deprecated and will be removed in a future version. To read from a literal string, wrap it in a 'StringIO' object.\n",
      "  scores_fixtures_table = pd.read_html(html, match = 'Scores & Fixtures')[0]\n"
     ]
    },
    {
     "name": "stdout",
     "output_type": "stream",
     "text": [
      "https://fbref.com/en/squads/e297cd13/2023-2024/matchlogs/all_comps/shooting/Luton-Town-Match-Logs-All-Competitions\n"
     ]
    },
    {
     "name": "stderr",
     "output_type": "stream",
     "text": [
      "/var/folders/q1/xzbrckf15fjgp4bmp0y5w4ww0000gn/T/ipykernel_6653/541128076.py:38: FutureWarning: Passing literal html to 'read_html' is deprecated and will be removed in a future version. To read from a literal string, wrap it in a 'StringIO' object.\n",
      "  shooting_table = pd.read_html(shooting_html, attrs = {'id': 'matchlogs_for'})[0]\n"
     ]
    },
    {
     "name": "stdout",
     "output_type": "stream",
     "text": [
      "https://fbref.com/en/squads/e297cd13/2023-2024/matchlogs/all_comps/defense/Luton-Town-Match-Logs-All-Competitions\n"
     ]
    },
    {
     "name": "stderr",
     "output_type": "stream",
     "text": [
      "/var/folders/q1/xzbrckf15fjgp4bmp0y5w4ww0000gn/T/ipykernel_6653/541128076.py:52: FutureWarning: Passing literal html to 'read_html' is deprecated and will be removed in a future version. To read from a literal string, wrap it in a 'StringIO' object.\n",
      "  defense_table = pd.read_html(defense_html, attrs = {'id': 'matchlogs_for'})[0]\n",
      "/var/folders/q1/xzbrckf15fjgp4bmp0y5w4ww0000gn/T/ipykernel_6653/541128076.py:27: FutureWarning: Passing literal html to 'read_html' is deprecated and will be removed in a future version. To read from a literal string, wrap it in a 'StringIO' object.\n",
      "  scores_fixtures_table = pd.read_html(html, match = 'Scores & Fixtures')[0]\n"
     ]
    },
    {
     "name": "stdout",
     "output_type": "stream",
     "text": [
      "https://fbref.com/en/squads/943e8050/2023-2024/matchlogs/all_comps/shooting/Burnley-Match-Logs-All-Competitions\n"
     ]
    },
    {
     "name": "stderr",
     "output_type": "stream",
     "text": [
      "/var/folders/q1/xzbrckf15fjgp4bmp0y5w4ww0000gn/T/ipykernel_6653/541128076.py:38: FutureWarning: Passing literal html to 'read_html' is deprecated and will be removed in a future version. To read from a literal string, wrap it in a 'StringIO' object.\n",
      "  shooting_table = pd.read_html(shooting_html, attrs = {'id': 'matchlogs_for'})[0]\n"
     ]
    },
    {
     "name": "stdout",
     "output_type": "stream",
     "text": [
      "https://fbref.com/en/squads/943e8050/2023-2024/matchlogs/all_comps/defense/Burnley-Match-Logs-All-Competitions\n"
     ]
    },
    {
     "name": "stderr",
     "output_type": "stream",
     "text": [
      "/var/folders/q1/xzbrckf15fjgp4bmp0y5w4ww0000gn/T/ipykernel_6653/541128076.py:52: FutureWarning: Passing literal html to 'read_html' is deprecated and will be removed in a future version. To read from a literal string, wrap it in a 'StringIO' object.\n",
      "  defense_table = pd.read_html(defense_html, attrs = {'id': 'matchlogs_for'})[0]\n",
      "/var/folders/q1/xzbrckf15fjgp4bmp0y5w4ww0000gn/T/ipykernel_6653/541128076.py:27: FutureWarning: Passing literal html to 'read_html' is deprecated and will be removed in a future version. To read from a literal string, wrap it in a 'StringIO' object.\n",
      "  scores_fixtures_table = pd.read_html(html, match = 'Scores & Fixtures')[0]\n"
     ]
    },
    {
     "name": "stdout",
     "output_type": "stream",
     "text": [
      "https://fbref.com/en/squads/1df6b87e/2023-2024/matchlogs/all_comps/shooting/Sheffield-United-Match-Logs-All-Competitions\n"
     ]
    },
    {
     "name": "stderr",
     "output_type": "stream",
     "text": [
      "/var/folders/q1/xzbrckf15fjgp4bmp0y5w4ww0000gn/T/ipykernel_6653/541128076.py:38: FutureWarning: Passing literal html to 'read_html' is deprecated and will be removed in a future version. To read from a literal string, wrap it in a 'StringIO' object.\n",
      "  shooting_table = pd.read_html(shooting_html, attrs = {'id': 'matchlogs_for'})[0]\n"
     ]
    },
    {
     "name": "stdout",
     "output_type": "stream",
     "text": [
      "https://fbref.com/en/squads/1df6b87e/2023-2024/matchlogs/all_comps/defense/Sheffield-United-Match-Logs-All-Competitions\n"
     ]
    },
    {
     "name": "stderr",
     "output_type": "stream",
     "text": [
      "/var/folders/q1/xzbrckf15fjgp4bmp0y5w4ww0000gn/T/ipykernel_6653/541128076.py:52: FutureWarning: Passing literal html to 'read_html' is deprecated and will be removed in a future version. To read from a literal string, wrap it in a 'StringIO' object.\n",
      "  defense_table = pd.read_html(defense_html, attrs = {'id': 'matchlogs_for'})[0]\n",
      "/var/folders/q1/xzbrckf15fjgp4bmp0y5w4ww0000gn/T/ipykernel_6653/541128076.py:27: FutureWarning: Passing literal html to 'read_html' is deprecated and will be removed in a future version. To read from a literal string, wrap it in a 'StringIO' object.\n",
      "  scores_fixtures_table = pd.read_html(html, match = 'Scores & Fixtures')[0]\n"
     ]
    },
    {
     "name": "stdout",
     "output_type": "stream",
     "text": [
      "https://fbref.com/en/squads/b8fd03ef/2022-2023/matchlogs/all_comps/shooting/Manchester-City-Match-Logs-All-Competitions\n"
     ]
    },
    {
     "name": "stderr",
     "output_type": "stream",
     "text": [
      "/var/folders/q1/xzbrckf15fjgp4bmp0y5w4ww0000gn/T/ipykernel_6653/541128076.py:38: FutureWarning: Passing literal html to 'read_html' is deprecated and will be removed in a future version. To read from a literal string, wrap it in a 'StringIO' object.\n",
      "  shooting_table = pd.read_html(shooting_html, attrs = {'id': 'matchlogs_for'})[0]\n"
     ]
    },
    {
     "name": "stdout",
     "output_type": "stream",
     "text": [
      "https://fbref.com/en/squads/b8fd03ef/2022-2023/matchlogs/all_comps/defense/Manchester-City-Match-Logs-All-Competitions\n"
     ]
    },
    {
     "name": "stderr",
     "output_type": "stream",
     "text": [
      "/var/folders/q1/xzbrckf15fjgp4bmp0y5w4ww0000gn/T/ipykernel_6653/541128076.py:52: FutureWarning: Passing literal html to 'read_html' is deprecated and will be removed in a future version. To read from a literal string, wrap it in a 'StringIO' object.\n",
      "  defense_table = pd.read_html(defense_html, attrs = {'id': 'matchlogs_for'})[0]\n",
      "/var/folders/q1/xzbrckf15fjgp4bmp0y5w4ww0000gn/T/ipykernel_6653/541128076.py:27: FutureWarning: Passing literal html to 'read_html' is deprecated and will be removed in a future version. To read from a literal string, wrap it in a 'StringIO' object.\n",
      "  scores_fixtures_table = pd.read_html(html, match = 'Scores & Fixtures')[0]\n"
     ]
    },
    {
     "name": "stdout",
     "output_type": "stream",
     "text": [
      "https://fbref.com/en/squads/18bb7c10/2022-2023/matchlogs/all_comps/shooting/Arsenal-Match-Logs-All-Competitions\n"
     ]
    },
    {
     "name": "stderr",
     "output_type": "stream",
     "text": [
      "/var/folders/q1/xzbrckf15fjgp4bmp0y5w4ww0000gn/T/ipykernel_6653/541128076.py:38: FutureWarning: Passing literal html to 'read_html' is deprecated and will be removed in a future version. To read from a literal string, wrap it in a 'StringIO' object.\n",
      "  shooting_table = pd.read_html(shooting_html, attrs = {'id': 'matchlogs_for'})[0]\n"
     ]
    },
    {
     "name": "stdout",
     "output_type": "stream",
     "text": [
      "https://fbref.com/en/squads/18bb7c10/2022-2023/matchlogs/all_comps/defense/Arsenal-Match-Logs-All-Competitions\n"
     ]
    },
    {
     "name": "stderr",
     "output_type": "stream",
     "text": [
      "/var/folders/q1/xzbrckf15fjgp4bmp0y5w4ww0000gn/T/ipykernel_6653/541128076.py:52: FutureWarning: Passing literal html to 'read_html' is deprecated and will be removed in a future version. To read from a literal string, wrap it in a 'StringIO' object.\n",
      "  defense_table = pd.read_html(defense_html, attrs = {'id': 'matchlogs_for'})[0]\n",
      "/var/folders/q1/xzbrckf15fjgp4bmp0y5w4ww0000gn/T/ipykernel_6653/541128076.py:27: FutureWarning: Passing literal html to 'read_html' is deprecated and will be removed in a future version. To read from a literal string, wrap it in a 'StringIO' object.\n",
      "  scores_fixtures_table = pd.read_html(html, match = 'Scores & Fixtures')[0]\n"
     ]
    },
    {
     "name": "stdout",
     "output_type": "stream",
     "text": [
      "https://fbref.com/en/squads/19538871/2022-2023/matchlogs/all_comps/shooting/Manchester-United-Match-Logs-All-Competitions\n"
     ]
    },
    {
     "name": "stderr",
     "output_type": "stream",
     "text": [
      "/var/folders/q1/xzbrckf15fjgp4bmp0y5w4ww0000gn/T/ipykernel_6653/541128076.py:38: FutureWarning: Passing literal html to 'read_html' is deprecated and will be removed in a future version. To read from a literal string, wrap it in a 'StringIO' object.\n",
      "  shooting_table = pd.read_html(shooting_html, attrs = {'id': 'matchlogs_for'})[0]\n"
     ]
    },
    {
     "name": "stdout",
     "output_type": "stream",
     "text": [
      "https://fbref.com/en/squads/19538871/2022-2023/matchlogs/all_comps/defense/Manchester-United-Match-Logs-All-Competitions\n"
     ]
    },
    {
     "name": "stderr",
     "output_type": "stream",
     "text": [
      "/var/folders/q1/xzbrckf15fjgp4bmp0y5w4ww0000gn/T/ipykernel_6653/541128076.py:52: FutureWarning: Passing literal html to 'read_html' is deprecated and will be removed in a future version. To read from a literal string, wrap it in a 'StringIO' object.\n",
      "  defense_table = pd.read_html(defense_html, attrs = {'id': 'matchlogs_for'})[0]\n",
      "/var/folders/q1/xzbrckf15fjgp4bmp0y5w4ww0000gn/T/ipykernel_6653/541128076.py:27: FutureWarning: Passing literal html to 'read_html' is deprecated and will be removed in a future version. To read from a literal string, wrap it in a 'StringIO' object.\n",
      "  scores_fixtures_table = pd.read_html(html, match = 'Scores & Fixtures')[0]\n"
     ]
    },
    {
     "name": "stdout",
     "output_type": "stream",
     "text": [
      "https://fbref.com/en/squads/b2b47a98/2022-2023/matchlogs/all_comps/shooting/Newcastle-United-Match-Logs-All-Competitions\n"
     ]
    },
    {
     "name": "stderr",
     "output_type": "stream",
     "text": [
      "/var/folders/q1/xzbrckf15fjgp4bmp0y5w4ww0000gn/T/ipykernel_6653/541128076.py:38: FutureWarning: Passing literal html to 'read_html' is deprecated and will be removed in a future version. To read from a literal string, wrap it in a 'StringIO' object.\n",
      "  shooting_table = pd.read_html(shooting_html, attrs = {'id': 'matchlogs_for'})[0]\n"
     ]
    },
    {
     "name": "stdout",
     "output_type": "stream",
     "text": [
      "https://fbref.com/en/squads/b2b47a98/2022-2023/matchlogs/all_comps/defense/Newcastle-United-Match-Logs-All-Competitions\n"
     ]
    },
    {
     "name": "stderr",
     "output_type": "stream",
     "text": [
      "/var/folders/q1/xzbrckf15fjgp4bmp0y5w4ww0000gn/T/ipykernel_6653/541128076.py:52: FutureWarning: Passing literal html to 'read_html' is deprecated and will be removed in a future version. To read from a literal string, wrap it in a 'StringIO' object.\n",
      "  defense_table = pd.read_html(defense_html, attrs = {'id': 'matchlogs_for'})[0]\n",
      "/var/folders/q1/xzbrckf15fjgp4bmp0y5w4ww0000gn/T/ipykernel_6653/541128076.py:27: FutureWarning: Passing literal html to 'read_html' is deprecated and will be removed in a future version. To read from a literal string, wrap it in a 'StringIO' object.\n",
      "  scores_fixtures_table = pd.read_html(html, match = 'Scores & Fixtures')[0]\n"
     ]
    },
    {
     "name": "stdout",
     "output_type": "stream",
     "text": [
      "https://fbref.com/en/squads/822bd0ba/2022-2023/matchlogs/all_comps/shooting/Liverpool-Match-Logs-All-Competitions\n"
     ]
    },
    {
     "name": "stderr",
     "output_type": "stream",
     "text": [
      "/var/folders/q1/xzbrckf15fjgp4bmp0y5w4ww0000gn/T/ipykernel_6653/541128076.py:38: FutureWarning: Passing literal html to 'read_html' is deprecated and will be removed in a future version. To read from a literal string, wrap it in a 'StringIO' object.\n",
      "  shooting_table = pd.read_html(shooting_html, attrs = {'id': 'matchlogs_for'})[0]\n"
     ]
    },
    {
     "name": "stdout",
     "output_type": "stream",
     "text": [
      "https://fbref.com/en/squads/822bd0ba/2022-2023/matchlogs/all_comps/defense/Liverpool-Match-Logs-All-Competitions\n"
     ]
    },
    {
     "name": "stderr",
     "output_type": "stream",
     "text": [
      "/var/folders/q1/xzbrckf15fjgp4bmp0y5w4ww0000gn/T/ipykernel_6653/541128076.py:52: FutureWarning: Passing literal html to 'read_html' is deprecated and will be removed in a future version. To read from a literal string, wrap it in a 'StringIO' object.\n",
      "  defense_table = pd.read_html(defense_html, attrs = {'id': 'matchlogs_for'})[0]\n",
      "/var/folders/q1/xzbrckf15fjgp4bmp0y5w4ww0000gn/T/ipykernel_6653/541128076.py:27: FutureWarning: Passing literal html to 'read_html' is deprecated and will be removed in a future version. To read from a literal string, wrap it in a 'StringIO' object.\n",
      "  scores_fixtures_table = pd.read_html(html, match = 'Scores & Fixtures')[0]\n"
     ]
    },
    {
     "name": "stdout",
     "output_type": "stream",
     "text": [
      "https://fbref.com/en/squads/d07537b9/2022-2023/matchlogs/all_comps/shooting/Brighton-and-Hove-Albion-Match-Logs-All-Competitions\n"
     ]
    },
    {
     "name": "stderr",
     "output_type": "stream",
     "text": [
      "/var/folders/q1/xzbrckf15fjgp4bmp0y5w4ww0000gn/T/ipykernel_6653/541128076.py:38: FutureWarning: Passing literal html to 'read_html' is deprecated and will be removed in a future version. To read from a literal string, wrap it in a 'StringIO' object.\n",
      "  shooting_table = pd.read_html(shooting_html, attrs = {'id': 'matchlogs_for'})[0]\n"
     ]
    },
    {
     "name": "stdout",
     "output_type": "stream",
     "text": [
      "https://fbref.com/en/squads/d07537b9/2022-2023/matchlogs/all_comps/defense/Brighton-and-Hove-Albion-Match-Logs-All-Competitions\n"
     ]
    },
    {
     "name": "stderr",
     "output_type": "stream",
     "text": [
      "/var/folders/q1/xzbrckf15fjgp4bmp0y5w4ww0000gn/T/ipykernel_6653/541128076.py:52: FutureWarning: Passing literal html to 'read_html' is deprecated and will be removed in a future version. To read from a literal string, wrap it in a 'StringIO' object.\n",
      "  defense_table = pd.read_html(defense_html, attrs = {'id': 'matchlogs_for'})[0]\n",
      "/var/folders/q1/xzbrckf15fjgp4bmp0y5w4ww0000gn/T/ipykernel_6653/541128076.py:27: FutureWarning: Passing literal html to 'read_html' is deprecated and will be removed in a future version. To read from a literal string, wrap it in a 'StringIO' object.\n",
      "  scores_fixtures_table = pd.read_html(html, match = 'Scores & Fixtures')[0]\n"
     ]
    },
    {
     "name": "stdout",
     "output_type": "stream",
     "text": [
      "https://fbref.com/en/squads/8602292d/2022-2023/matchlogs/all_comps/shooting/Aston-Villa-Match-Logs-All-Competitions\n"
     ]
    },
    {
     "name": "stderr",
     "output_type": "stream",
     "text": [
      "/var/folders/q1/xzbrckf15fjgp4bmp0y5w4ww0000gn/T/ipykernel_6653/541128076.py:38: FutureWarning: Passing literal html to 'read_html' is deprecated and will be removed in a future version. To read from a literal string, wrap it in a 'StringIO' object.\n",
      "  shooting_table = pd.read_html(shooting_html, attrs = {'id': 'matchlogs_for'})[0]\n"
     ]
    },
    {
     "name": "stdout",
     "output_type": "stream",
     "text": [
      "https://fbref.com/en/squads/8602292d/2022-2023/matchlogs/all_comps/defense/Aston-Villa-Match-Logs-All-Competitions\n"
     ]
    },
    {
     "name": "stderr",
     "output_type": "stream",
     "text": [
      "/var/folders/q1/xzbrckf15fjgp4bmp0y5w4ww0000gn/T/ipykernel_6653/541128076.py:52: FutureWarning: Passing literal html to 'read_html' is deprecated and will be removed in a future version. To read from a literal string, wrap it in a 'StringIO' object.\n",
      "  defense_table = pd.read_html(defense_html, attrs = {'id': 'matchlogs_for'})[0]\n",
      "/var/folders/q1/xzbrckf15fjgp4bmp0y5w4ww0000gn/T/ipykernel_6653/541128076.py:27: FutureWarning: Passing literal html to 'read_html' is deprecated and will be removed in a future version. To read from a literal string, wrap it in a 'StringIO' object.\n",
      "  scores_fixtures_table = pd.read_html(html, match = 'Scores & Fixtures')[0]\n"
     ]
    },
    {
     "name": "stdout",
     "output_type": "stream",
     "text": [
      "https://fbref.com/en/squads/361ca564/2022-2023/matchlogs/all_comps/shooting/Tottenham-Hotspur-Match-Logs-All-Competitions\n"
     ]
    },
    {
     "name": "stderr",
     "output_type": "stream",
     "text": [
      "/var/folders/q1/xzbrckf15fjgp4bmp0y5w4ww0000gn/T/ipykernel_6653/541128076.py:38: FutureWarning: Passing literal html to 'read_html' is deprecated and will be removed in a future version. To read from a literal string, wrap it in a 'StringIO' object.\n",
      "  shooting_table = pd.read_html(shooting_html, attrs = {'id': 'matchlogs_for'})[0]\n"
     ]
    },
    {
     "name": "stdout",
     "output_type": "stream",
     "text": [
      "https://fbref.com/en/squads/361ca564/2022-2023/matchlogs/all_comps/defense/Tottenham-Hotspur-Match-Logs-All-Competitions\n"
     ]
    },
    {
     "name": "stderr",
     "output_type": "stream",
     "text": [
      "/var/folders/q1/xzbrckf15fjgp4bmp0y5w4ww0000gn/T/ipykernel_6653/541128076.py:52: FutureWarning: Passing literal html to 'read_html' is deprecated and will be removed in a future version. To read from a literal string, wrap it in a 'StringIO' object.\n",
      "  defense_table = pd.read_html(defense_html, attrs = {'id': 'matchlogs_for'})[0]\n",
      "/var/folders/q1/xzbrckf15fjgp4bmp0y5w4ww0000gn/T/ipykernel_6653/541128076.py:27: FutureWarning: Passing literal html to 'read_html' is deprecated and will be removed in a future version. To read from a literal string, wrap it in a 'StringIO' object.\n",
      "  scores_fixtures_table = pd.read_html(html, match = 'Scores & Fixtures')[0]\n"
     ]
    },
    {
     "name": "stdout",
     "output_type": "stream",
     "text": [
      "https://fbref.com/en/squads/cd051869/2022-2023/matchlogs/all_comps/shooting/Brentford-Match-Logs-All-Competitions\n"
     ]
    },
    {
     "name": "stderr",
     "output_type": "stream",
     "text": [
      "/var/folders/q1/xzbrckf15fjgp4bmp0y5w4ww0000gn/T/ipykernel_6653/541128076.py:38: FutureWarning: Passing literal html to 'read_html' is deprecated and will be removed in a future version. To read from a literal string, wrap it in a 'StringIO' object.\n",
      "  shooting_table = pd.read_html(shooting_html, attrs = {'id': 'matchlogs_for'})[0]\n"
     ]
    },
    {
     "name": "stdout",
     "output_type": "stream",
     "text": [
      "https://fbref.com/en/squads/cd051869/2022-2023/matchlogs/all_comps/defense/Brentford-Match-Logs-All-Competitions\n"
     ]
    },
    {
     "name": "stderr",
     "output_type": "stream",
     "text": [
      "/var/folders/q1/xzbrckf15fjgp4bmp0y5w4ww0000gn/T/ipykernel_6653/541128076.py:52: FutureWarning: Passing literal html to 'read_html' is deprecated and will be removed in a future version. To read from a literal string, wrap it in a 'StringIO' object.\n",
      "  defense_table = pd.read_html(defense_html, attrs = {'id': 'matchlogs_for'})[0]\n",
      "/var/folders/q1/xzbrckf15fjgp4bmp0y5w4ww0000gn/T/ipykernel_6653/541128076.py:27: FutureWarning: Passing literal html to 'read_html' is deprecated and will be removed in a future version. To read from a literal string, wrap it in a 'StringIO' object.\n",
      "  scores_fixtures_table = pd.read_html(html, match = 'Scores & Fixtures')[0]\n"
     ]
    },
    {
     "name": "stdout",
     "output_type": "stream",
     "text": [
      "https://fbref.com/en/squads/fd962109/2022-2023/matchlogs/all_comps/shooting/Fulham-Match-Logs-All-Competitions\n"
     ]
    },
    {
     "name": "stderr",
     "output_type": "stream",
     "text": [
      "/var/folders/q1/xzbrckf15fjgp4bmp0y5w4ww0000gn/T/ipykernel_6653/541128076.py:38: FutureWarning: Passing literal html to 'read_html' is deprecated and will be removed in a future version. To read from a literal string, wrap it in a 'StringIO' object.\n",
      "  shooting_table = pd.read_html(shooting_html, attrs = {'id': 'matchlogs_for'})[0]\n"
     ]
    },
    {
     "name": "stdout",
     "output_type": "stream",
     "text": [
      "https://fbref.com/en/squads/fd962109/2022-2023/matchlogs/all_comps/defense/Fulham-Match-Logs-All-Competitions\n"
     ]
    },
    {
     "name": "stderr",
     "output_type": "stream",
     "text": [
      "/var/folders/q1/xzbrckf15fjgp4bmp0y5w4ww0000gn/T/ipykernel_6653/541128076.py:52: FutureWarning: Passing literal html to 'read_html' is deprecated and will be removed in a future version. To read from a literal string, wrap it in a 'StringIO' object.\n",
      "  defense_table = pd.read_html(defense_html, attrs = {'id': 'matchlogs_for'})[0]\n",
      "/var/folders/q1/xzbrckf15fjgp4bmp0y5w4ww0000gn/T/ipykernel_6653/541128076.py:27: FutureWarning: Passing literal html to 'read_html' is deprecated and will be removed in a future version. To read from a literal string, wrap it in a 'StringIO' object.\n",
      "  scores_fixtures_table = pd.read_html(html, match = 'Scores & Fixtures')[0]\n"
     ]
    },
    {
     "name": "stdout",
     "output_type": "stream",
     "text": [
      "https://fbref.com/en/squads/47c64c55/2022-2023/matchlogs/all_comps/shooting/Crystal-Palace-Match-Logs-All-Competitions\n"
     ]
    },
    {
     "name": "stderr",
     "output_type": "stream",
     "text": [
      "/var/folders/q1/xzbrckf15fjgp4bmp0y5w4ww0000gn/T/ipykernel_6653/541128076.py:38: FutureWarning: Passing literal html to 'read_html' is deprecated and will be removed in a future version. To read from a literal string, wrap it in a 'StringIO' object.\n",
      "  shooting_table = pd.read_html(shooting_html, attrs = {'id': 'matchlogs_for'})[0]\n"
     ]
    },
    {
     "name": "stdout",
     "output_type": "stream",
     "text": [
      "https://fbref.com/en/squads/47c64c55/2022-2023/matchlogs/all_comps/defense/Crystal-Palace-Match-Logs-All-Competitions\n"
     ]
    },
    {
     "name": "stderr",
     "output_type": "stream",
     "text": [
      "/var/folders/q1/xzbrckf15fjgp4bmp0y5w4ww0000gn/T/ipykernel_6653/541128076.py:52: FutureWarning: Passing literal html to 'read_html' is deprecated and will be removed in a future version. To read from a literal string, wrap it in a 'StringIO' object.\n",
      "  defense_table = pd.read_html(defense_html, attrs = {'id': 'matchlogs_for'})[0]\n",
      "/var/folders/q1/xzbrckf15fjgp4bmp0y5w4ww0000gn/T/ipykernel_6653/541128076.py:27: FutureWarning: Passing literal html to 'read_html' is deprecated and will be removed in a future version. To read from a literal string, wrap it in a 'StringIO' object.\n",
      "  scores_fixtures_table = pd.read_html(html, match = 'Scores & Fixtures')[0]\n"
     ]
    },
    {
     "name": "stdout",
     "output_type": "stream",
     "text": [
      "https://fbref.com/en/squads/cff3d9bb/2022-2023/matchlogs/all_comps/shooting/Chelsea-Match-Logs-All-Competitions\n"
     ]
    },
    {
     "name": "stderr",
     "output_type": "stream",
     "text": [
      "/var/folders/q1/xzbrckf15fjgp4bmp0y5w4ww0000gn/T/ipykernel_6653/541128076.py:38: FutureWarning: Passing literal html to 'read_html' is deprecated and will be removed in a future version. To read from a literal string, wrap it in a 'StringIO' object.\n",
      "  shooting_table = pd.read_html(shooting_html, attrs = {'id': 'matchlogs_for'})[0]\n"
     ]
    },
    {
     "name": "stdout",
     "output_type": "stream",
     "text": [
      "https://fbref.com/en/squads/cff3d9bb/2022-2023/matchlogs/all_comps/defense/Chelsea-Match-Logs-All-Competitions\n"
     ]
    },
    {
     "name": "stderr",
     "output_type": "stream",
     "text": [
      "/var/folders/q1/xzbrckf15fjgp4bmp0y5w4ww0000gn/T/ipykernel_6653/541128076.py:52: FutureWarning: Passing literal html to 'read_html' is deprecated and will be removed in a future version. To read from a literal string, wrap it in a 'StringIO' object.\n",
      "  defense_table = pd.read_html(defense_html, attrs = {'id': 'matchlogs_for'})[0]\n",
      "/var/folders/q1/xzbrckf15fjgp4bmp0y5w4ww0000gn/T/ipykernel_6653/541128076.py:27: FutureWarning: Passing literal html to 'read_html' is deprecated and will be removed in a future version. To read from a literal string, wrap it in a 'StringIO' object.\n",
      "  scores_fixtures_table = pd.read_html(html, match = 'Scores & Fixtures')[0]\n"
     ]
    },
    {
     "name": "stdout",
     "output_type": "stream",
     "text": [
      "https://fbref.com/en/squads/8cec06e1/2022-2023/matchlogs/all_comps/shooting/Wolverhampton-Wanderers-Match-Logs-All-Competitions\n"
     ]
    },
    {
     "name": "stderr",
     "output_type": "stream",
     "text": [
      "/var/folders/q1/xzbrckf15fjgp4bmp0y5w4ww0000gn/T/ipykernel_6653/541128076.py:38: FutureWarning: Passing literal html to 'read_html' is deprecated and will be removed in a future version. To read from a literal string, wrap it in a 'StringIO' object.\n",
      "  shooting_table = pd.read_html(shooting_html, attrs = {'id': 'matchlogs_for'})[0]\n"
     ]
    },
    {
     "name": "stdout",
     "output_type": "stream",
     "text": [
      "https://fbref.com/en/squads/8cec06e1/2022-2023/matchlogs/all_comps/defense/Wolverhampton-Wanderers-Match-Logs-All-Competitions\n"
     ]
    },
    {
     "name": "stderr",
     "output_type": "stream",
     "text": [
      "/var/folders/q1/xzbrckf15fjgp4bmp0y5w4ww0000gn/T/ipykernel_6653/541128076.py:52: FutureWarning: Passing literal html to 'read_html' is deprecated and will be removed in a future version. To read from a literal string, wrap it in a 'StringIO' object.\n",
      "  defense_table = pd.read_html(defense_html, attrs = {'id': 'matchlogs_for'})[0]\n",
      "/var/folders/q1/xzbrckf15fjgp4bmp0y5w4ww0000gn/T/ipykernel_6653/541128076.py:27: FutureWarning: Passing literal html to 'read_html' is deprecated and will be removed in a future version. To read from a literal string, wrap it in a 'StringIO' object.\n",
      "  scores_fixtures_table = pd.read_html(html, match = 'Scores & Fixtures')[0]\n"
     ]
    },
    {
     "name": "stdout",
     "output_type": "stream",
     "text": [
      "https://fbref.com/en/squads/7c21e445/2022-2023/matchlogs/all_comps/shooting/West-Ham-United-Match-Logs-All-Competitions\n"
     ]
    },
    {
     "name": "stderr",
     "output_type": "stream",
     "text": [
      "/var/folders/q1/xzbrckf15fjgp4bmp0y5w4ww0000gn/T/ipykernel_6653/541128076.py:38: FutureWarning: Passing literal html to 'read_html' is deprecated and will be removed in a future version. To read from a literal string, wrap it in a 'StringIO' object.\n",
      "  shooting_table = pd.read_html(shooting_html, attrs = {'id': 'matchlogs_for'})[0]\n"
     ]
    },
    {
     "name": "stdout",
     "output_type": "stream",
     "text": [
      "https://fbref.com/en/squads/7c21e445/2022-2023/matchlogs/all_comps/defense/West-Ham-United-Match-Logs-All-Competitions\n"
     ]
    },
    {
     "name": "stderr",
     "output_type": "stream",
     "text": [
      "/var/folders/q1/xzbrckf15fjgp4bmp0y5w4ww0000gn/T/ipykernel_6653/541128076.py:52: FutureWarning: Passing literal html to 'read_html' is deprecated and will be removed in a future version. To read from a literal string, wrap it in a 'StringIO' object.\n",
      "  defense_table = pd.read_html(defense_html, attrs = {'id': 'matchlogs_for'})[0]\n",
      "/var/folders/q1/xzbrckf15fjgp4bmp0y5w4ww0000gn/T/ipykernel_6653/541128076.py:27: FutureWarning: Passing literal html to 'read_html' is deprecated and will be removed in a future version. To read from a literal string, wrap it in a 'StringIO' object.\n",
      "  scores_fixtures_table = pd.read_html(html, match = 'Scores & Fixtures')[0]\n"
     ]
    },
    {
     "name": "stdout",
     "output_type": "stream",
     "text": [
      "https://fbref.com/en/squads/4ba7cbea/2022-2023/matchlogs/all_comps/shooting/Bournemouth-Match-Logs-All-Competitions\n"
     ]
    },
    {
     "name": "stderr",
     "output_type": "stream",
     "text": [
      "/var/folders/q1/xzbrckf15fjgp4bmp0y5w4ww0000gn/T/ipykernel_6653/541128076.py:38: FutureWarning: Passing literal html to 'read_html' is deprecated and will be removed in a future version. To read from a literal string, wrap it in a 'StringIO' object.\n",
      "  shooting_table = pd.read_html(shooting_html, attrs = {'id': 'matchlogs_for'})[0]\n"
     ]
    },
    {
     "name": "stdout",
     "output_type": "stream",
     "text": [
      "https://fbref.com/en/squads/4ba7cbea/2022-2023/matchlogs/all_comps/defense/Bournemouth-Match-Logs-All-Competitions\n"
     ]
    },
    {
     "name": "stderr",
     "output_type": "stream",
     "text": [
      "/var/folders/q1/xzbrckf15fjgp4bmp0y5w4ww0000gn/T/ipykernel_6653/541128076.py:52: FutureWarning: Passing literal html to 'read_html' is deprecated and will be removed in a future version. To read from a literal string, wrap it in a 'StringIO' object.\n",
      "  defense_table = pd.read_html(defense_html, attrs = {'id': 'matchlogs_for'})[0]\n",
      "/var/folders/q1/xzbrckf15fjgp4bmp0y5w4ww0000gn/T/ipykernel_6653/541128076.py:27: FutureWarning: Passing literal html to 'read_html' is deprecated and will be removed in a future version. To read from a literal string, wrap it in a 'StringIO' object.\n",
      "  scores_fixtures_table = pd.read_html(html, match = 'Scores & Fixtures')[0]\n"
     ]
    },
    {
     "name": "stdout",
     "output_type": "stream",
     "text": [
      "https://fbref.com/en/squads/e4a775cb/2022-2023/matchlogs/all_comps/shooting/Nottingham-Forest-Match-Logs-All-Competitions\n"
     ]
    },
    {
     "name": "stderr",
     "output_type": "stream",
     "text": [
      "/var/folders/q1/xzbrckf15fjgp4bmp0y5w4ww0000gn/T/ipykernel_6653/541128076.py:38: FutureWarning: Passing literal html to 'read_html' is deprecated and will be removed in a future version. To read from a literal string, wrap it in a 'StringIO' object.\n",
      "  shooting_table = pd.read_html(shooting_html, attrs = {'id': 'matchlogs_for'})[0]\n"
     ]
    },
    {
     "name": "stdout",
     "output_type": "stream",
     "text": [
      "https://fbref.com/en/squads/e4a775cb/2022-2023/matchlogs/all_comps/defense/Nottingham-Forest-Match-Logs-All-Competitions\n"
     ]
    },
    {
     "name": "stderr",
     "output_type": "stream",
     "text": [
      "/var/folders/q1/xzbrckf15fjgp4bmp0y5w4ww0000gn/T/ipykernel_6653/541128076.py:52: FutureWarning: Passing literal html to 'read_html' is deprecated and will be removed in a future version. To read from a literal string, wrap it in a 'StringIO' object.\n",
      "  defense_table = pd.read_html(defense_html, attrs = {'id': 'matchlogs_for'})[0]\n",
      "/var/folders/q1/xzbrckf15fjgp4bmp0y5w4ww0000gn/T/ipykernel_6653/541128076.py:27: FutureWarning: Passing literal html to 'read_html' is deprecated and will be removed in a future version. To read from a literal string, wrap it in a 'StringIO' object.\n",
      "  scores_fixtures_table = pd.read_html(html, match = 'Scores & Fixtures')[0]\n"
     ]
    },
    {
     "name": "stdout",
     "output_type": "stream",
     "text": [
      "https://fbref.com/en/squads/d3fd31cc/2022-2023/matchlogs/all_comps/shooting/Everton-Match-Logs-All-Competitions\n"
     ]
    },
    {
     "name": "stderr",
     "output_type": "stream",
     "text": [
      "/var/folders/q1/xzbrckf15fjgp4bmp0y5w4ww0000gn/T/ipykernel_6653/541128076.py:38: FutureWarning: Passing literal html to 'read_html' is deprecated and will be removed in a future version. To read from a literal string, wrap it in a 'StringIO' object.\n",
      "  shooting_table = pd.read_html(shooting_html, attrs = {'id': 'matchlogs_for'})[0]\n"
     ]
    },
    {
     "name": "stdout",
     "output_type": "stream",
     "text": [
      "https://fbref.com/en/squads/d3fd31cc/2022-2023/matchlogs/all_comps/defense/Everton-Match-Logs-All-Competitions\n"
     ]
    },
    {
     "name": "stderr",
     "output_type": "stream",
     "text": [
      "/var/folders/q1/xzbrckf15fjgp4bmp0y5w4ww0000gn/T/ipykernel_6653/541128076.py:52: FutureWarning: Passing literal html to 'read_html' is deprecated and will be removed in a future version. To read from a literal string, wrap it in a 'StringIO' object.\n",
      "  defense_table = pd.read_html(defense_html, attrs = {'id': 'matchlogs_for'})[0]\n",
      "/var/folders/q1/xzbrckf15fjgp4bmp0y5w4ww0000gn/T/ipykernel_6653/541128076.py:27: FutureWarning: Passing literal html to 'read_html' is deprecated and will be removed in a future version. To read from a literal string, wrap it in a 'StringIO' object.\n",
      "  scores_fixtures_table = pd.read_html(html, match = 'Scores & Fixtures')[0]\n"
     ]
    },
    {
     "name": "stdout",
     "output_type": "stream",
     "text": [
      "https://fbref.com/en/squads/a2d435b3/2022-2023/matchlogs/all_comps/shooting/Leicester-City-Match-Logs-All-Competitions\n"
     ]
    },
    {
     "name": "stderr",
     "output_type": "stream",
     "text": [
      "/var/folders/q1/xzbrckf15fjgp4bmp0y5w4ww0000gn/T/ipykernel_6653/541128076.py:38: FutureWarning: Passing literal html to 'read_html' is deprecated and will be removed in a future version. To read from a literal string, wrap it in a 'StringIO' object.\n",
      "  shooting_table = pd.read_html(shooting_html, attrs = {'id': 'matchlogs_for'})[0]\n"
     ]
    },
    {
     "name": "stdout",
     "output_type": "stream",
     "text": [
      "https://fbref.com/en/squads/a2d435b3/2022-2023/matchlogs/all_comps/defense/Leicester-City-Match-Logs-All-Competitions\n"
     ]
    },
    {
     "name": "stderr",
     "output_type": "stream",
     "text": [
      "/var/folders/q1/xzbrckf15fjgp4bmp0y5w4ww0000gn/T/ipykernel_6653/541128076.py:52: FutureWarning: Passing literal html to 'read_html' is deprecated and will be removed in a future version. To read from a literal string, wrap it in a 'StringIO' object.\n",
      "  defense_table = pd.read_html(defense_html, attrs = {'id': 'matchlogs_for'})[0]\n",
      "/var/folders/q1/xzbrckf15fjgp4bmp0y5w4ww0000gn/T/ipykernel_6653/541128076.py:27: FutureWarning: Passing literal html to 'read_html' is deprecated and will be removed in a future version. To read from a literal string, wrap it in a 'StringIO' object.\n",
      "  scores_fixtures_table = pd.read_html(html, match = 'Scores & Fixtures')[0]\n"
     ]
    },
    {
     "name": "stdout",
     "output_type": "stream",
     "text": [
      "https://fbref.com/en/squads/5bfb9659/2022-2023/matchlogs/all_comps/shooting/Leeds-United-Match-Logs-All-Competitions\n"
     ]
    },
    {
     "name": "stderr",
     "output_type": "stream",
     "text": [
      "/var/folders/q1/xzbrckf15fjgp4bmp0y5w4ww0000gn/T/ipykernel_6653/541128076.py:38: FutureWarning: Passing literal html to 'read_html' is deprecated and will be removed in a future version. To read from a literal string, wrap it in a 'StringIO' object.\n",
      "  shooting_table = pd.read_html(shooting_html, attrs = {'id': 'matchlogs_for'})[0]\n"
     ]
    },
    {
     "name": "stdout",
     "output_type": "stream",
     "text": [
      "https://fbref.com/en/squads/5bfb9659/2022-2023/matchlogs/all_comps/defense/Leeds-United-Match-Logs-All-Competitions\n"
     ]
    },
    {
     "name": "stderr",
     "output_type": "stream",
     "text": [
      "/var/folders/q1/xzbrckf15fjgp4bmp0y5w4ww0000gn/T/ipykernel_6653/541128076.py:52: FutureWarning: Passing literal html to 'read_html' is deprecated and will be removed in a future version. To read from a literal string, wrap it in a 'StringIO' object.\n",
      "  defense_table = pd.read_html(defense_html, attrs = {'id': 'matchlogs_for'})[0]\n",
      "/var/folders/q1/xzbrckf15fjgp4bmp0y5w4ww0000gn/T/ipykernel_6653/541128076.py:27: FutureWarning: Passing literal html to 'read_html' is deprecated and will be removed in a future version. To read from a literal string, wrap it in a 'StringIO' object.\n",
      "  scores_fixtures_table = pd.read_html(html, match = 'Scores & Fixtures')[0]\n"
     ]
    },
    {
     "name": "stdout",
     "output_type": "stream",
     "text": [
      "https://fbref.com/en/squads/33c895d4/2022-2023/matchlogs/all_comps/shooting/Southampton-Match-Logs-All-Competitions\n"
     ]
    },
    {
     "name": "stderr",
     "output_type": "stream",
     "text": [
      "/var/folders/q1/xzbrckf15fjgp4bmp0y5w4ww0000gn/T/ipykernel_6653/541128076.py:38: FutureWarning: Passing literal html to 'read_html' is deprecated and will be removed in a future version. To read from a literal string, wrap it in a 'StringIO' object.\n",
      "  shooting_table = pd.read_html(shooting_html, attrs = {'id': 'matchlogs_for'})[0]\n"
     ]
    },
    {
     "name": "stdout",
     "output_type": "stream",
     "text": [
      "https://fbref.com/en/squads/33c895d4/2022-2023/matchlogs/all_comps/defense/Southampton-Match-Logs-All-Competitions\n"
     ]
    },
    {
     "name": "stderr",
     "output_type": "stream",
     "text": [
      "/var/folders/q1/xzbrckf15fjgp4bmp0y5w4ww0000gn/T/ipykernel_6653/541128076.py:52: FutureWarning: Passing literal html to 'read_html' is deprecated and will be removed in a future version. To read from a literal string, wrap it in a 'StringIO' object.\n",
      "  defense_table = pd.read_html(defense_html, attrs = {'id': 'matchlogs_for'})[0]\n",
      "/var/folders/q1/xzbrckf15fjgp4bmp0y5w4ww0000gn/T/ipykernel_6653/541128076.py:27: FutureWarning: Passing literal html to 'read_html' is deprecated and will be removed in a future version. To read from a literal string, wrap it in a 'StringIO' object.\n",
      "  scores_fixtures_table = pd.read_html(html, match = 'Scores & Fixtures')[0]\n"
     ]
    },
    {
     "name": "stdout",
     "output_type": "stream",
     "text": [
      "https://fbref.com/en/squads/b8fd03ef/2021-2022/matchlogs/all_comps/shooting/Manchester-City-Match-Logs-All-Competitions\n"
     ]
    },
    {
     "name": "stderr",
     "output_type": "stream",
     "text": [
      "/var/folders/q1/xzbrckf15fjgp4bmp0y5w4ww0000gn/T/ipykernel_6653/541128076.py:38: FutureWarning: Passing literal html to 'read_html' is deprecated and will be removed in a future version. To read from a literal string, wrap it in a 'StringIO' object.\n",
      "  shooting_table = pd.read_html(shooting_html, attrs = {'id': 'matchlogs_for'})[0]\n"
     ]
    },
    {
     "name": "stdout",
     "output_type": "stream",
     "text": [
      "https://fbref.com/en/squads/b8fd03ef/2021-2022/matchlogs/all_comps/defense/Manchester-City-Match-Logs-All-Competitions\n"
     ]
    },
    {
     "name": "stderr",
     "output_type": "stream",
     "text": [
      "/var/folders/q1/xzbrckf15fjgp4bmp0y5w4ww0000gn/T/ipykernel_6653/541128076.py:52: FutureWarning: Passing literal html to 'read_html' is deprecated and will be removed in a future version. To read from a literal string, wrap it in a 'StringIO' object.\n",
      "  defense_table = pd.read_html(defense_html, attrs = {'id': 'matchlogs_for'})[0]\n",
      "/var/folders/q1/xzbrckf15fjgp4bmp0y5w4ww0000gn/T/ipykernel_6653/541128076.py:27: FutureWarning: Passing literal html to 'read_html' is deprecated and will be removed in a future version. To read from a literal string, wrap it in a 'StringIO' object.\n",
      "  scores_fixtures_table = pd.read_html(html, match = 'Scores & Fixtures')[0]\n"
     ]
    },
    {
     "name": "stdout",
     "output_type": "stream",
     "text": [
      "https://fbref.com/en/squads/822bd0ba/2021-2022/matchlogs/all_comps/shooting/Liverpool-Match-Logs-All-Competitions\n"
     ]
    },
    {
     "name": "stderr",
     "output_type": "stream",
     "text": [
      "/var/folders/q1/xzbrckf15fjgp4bmp0y5w4ww0000gn/T/ipykernel_6653/541128076.py:38: FutureWarning: Passing literal html to 'read_html' is deprecated and will be removed in a future version. To read from a literal string, wrap it in a 'StringIO' object.\n",
      "  shooting_table = pd.read_html(shooting_html, attrs = {'id': 'matchlogs_for'})[0]\n"
     ]
    },
    {
     "name": "stdout",
     "output_type": "stream",
     "text": [
      "https://fbref.com/en/squads/822bd0ba/2021-2022/matchlogs/all_comps/defense/Liverpool-Match-Logs-All-Competitions\n"
     ]
    },
    {
     "name": "stderr",
     "output_type": "stream",
     "text": [
      "/var/folders/q1/xzbrckf15fjgp4bmp0y5w4ww0000gn/T/ipykernel_6653/541128076.py:52: FutureWarning: Passing literal html to 'read_html' is deprecated and will be removed in a future version. To read from a literal string, wrap it in a 'StringIO' object.\n",
      "  defense_table = pd.read_html(defense_html, attrs = {'id': 'matchlogs_for'})[0]\n",
      "/var/folders/q1/xzbrckf15fjgp4bmp0y5w4ww0000gn/T/ipykernel_6653/541128076.py:27: FutureWarning: Passing literal html to 'read_html' is deprecated and will be removed in a future version. To read from a literal string, wrap it in a 'StringIO' object.\n",
      "  scores_fixtures_table = pd.read_html(html, match = 'Scores & Fixtures')[0]\n"
     ]
    },
    {
     "name": "stdout",
     "output_type": "stream",
     "text": [
      "https://fbref.com/en/squads/cff3d9bb/2021-2022/matchlogs/all_comps/shooting/Chelsea-Match-Logs-All-Competitions\n"
     ]
    },
    {
     "name": "stderr",
     "output_type": "stream",
     "text": [
      "/var/folders/q1/xzbrckf15fjgp4bmp0y5w4ww0000gn/T/ipykernel_6653/541128076.py:38: FutureWarning: Passing literal html to 'read_html' is deprecated and will be removed in a future version. To read from a literal string, wrap it in a 'StringIO' object.\n",
      "  shooting_table = pd.read_html(shooting_html, attrs = {'id': 'matchlogs_for'})[0]\n"
     ]
    },
    {
     "name": "stdout",
     "output_type": "stream",
     "text": [
      "https://fbref.com/en/squads/cff3d9bb/2021-2022/matchlogs/all_comps/defense/Chelsea-Match-Logs-All-Competitions\n"
     ]
    },
    {
     "name": "stderr",
     "output_type": "stream",
     "text": [
      "/var/folders/q1/xzbrckf15fjgp4bmp0y5w4ww0000gn/T/ipykernel_6653/541128076.py:52: FutureWarning: Passing literal html to 'read_html' is deprecated and will be removed in a future version. To read from a literal string, wrap it in a 'StringIO' object.\n",
      "  defense_table = pd.read_html(defense_html, attrs = {'id': 'matchlogs_for'})[0]\n",
      "/var/folders/q1/xzbrckf15fjgp4bmp0y5w4ww0000gn/T/ipykernel_6653/541128076.py:27: FutureWarning: Passing literal html to 'read_html' is deprecated and will be removed in a future version. To read from a literal string, wrap it in a 'StringIO' object.\n",
      "  scores_fixtures_table = pd.read_html(html, match = 'Scores & Fixtures')[0]\n"
     ]
    },
    {
     "name": "stdout",
     "output_type": "stream",
     "text": [
      "https://fbref.com/en/squads/361ca564/2021-2022/matchlogs/all_comps/shooting/Tottenham-Hotspur-Match-Logs-All-Competitions\n"
     ]
    },
    {
     "name": "stderr",
     "output_type": "stream",
     "text": [
      "/var/folders/q1/xzbrckf15fjgp4bmp0y5w4ww0000gn/T/ipykernel_6653/541128076.py:38: FutureWarning: Passing literal html to 'read_html' is deprecated and will be removed in a future version. To read from a literal string, wrap it in a 'StringIO' object.\n",
      "  shooting_table = pd.read_html(shooting_html, attrs = {'id': 'matchlogs_for'})[0]\n"
     ]
    },
    {
     "name": "stdout",
     "output_type": "stream",
     "text": [
      "https://fbref.com/en/squads/361ca564/2021-2022/matchlogs/all_comps/defense/Tottenham-Hotspur-Match-Logs-All-Competitions\n"
     ]
    },
    {
     "name": "stderr",
     "output_type": "stream",
     "text": [
      "/var/folders/q1/xzbrckf15fjgp4bmp0y5w4ww0000gn/T/ipykernel_6653/541128076.py:52: FutureWarning: Passing literal html to 'read_html' is deprecated and will be removed in a future version. To read from a literal string, wrap it in a 'StringIO' object.\n",
      "  defense_table = pd.read_html(defense_html, attrs = {'id': 'matchlogs_for'})[0]\n",
      "/var/folders/q1/xzbrckf15fjgp4bmp0y5w4ww0000gn/T/ipykernel_6653/541128076.py:27: FutureWarning: Passing literal html to 'read_html' is deprecated and will be removed in a future version. To read from a literal string, wrap it in a 'StringIO' object.\n",
      "  scores_fixtures_table = pd.read_html(html, match = 'Scores & Fixtures')[0]\n"
     ]
    },
    {
     "name": "stdout",
     "output_type": "stream",
     "text": [
      "https://fbref.com/en/squads/18bb7c10/2021-2022/matchlogs/all_comps/shooting/Arsenal-Match-Logs-All-Competitions\n"
     ]
    },
    {
     "name": "stderr",
     "output_type": "stream",
     "text": [
      "/var/folders/q1/xzbrckf15fjgp4bmp0y5w4ww0000gn/T/ipykernel_6653/541128076.py:38: FutureWarning: Passing literal html to 'read_html' is deprecated and will be removed in a future version. To read from a literal string, wrap it in a 'StringIO' object.\n",
      "  shooting_table = pd.read_html(shooting_html, attrs = {'id': 'matchlogs_for'})[0]\n"
     ]
    },
    {
     "name": "stdout",
     "output_type": "stream",
     "text": [
      "https://fbref.com/en/squads/18bb7c10/2021-2022/matchlogs/all_comps/defense/Arsenal-Match-Logs-All-Competitions\n"
     ]
    },
    {
     "name": "stderr",
     "output_type": "stream",
     "text": [
      "/var/folders/q1/xzbrckf15fjgp4bmp0y5w4ww0000gn/T/ipykernel_6653/541128076.py:52: FutureWarning: Passing literal html to 'read_html' is deprecated and will be removed in a future version. To read from a literal string, wrap it in a 'StringIO' object.\n",
      "  defense_table = pd.read_html(defense_html, attrs = {'id': 'matchlogs_for'})[0]\n",
      "/var/folders/q1/xzbrckf15fjgp4bmp0y5w4ww0000gn/T/ipykernel_6653/541128076.py:27: FutureWarning: Passing literal html to 'read_html' is deprecated and will be removed in a future version. To read from a literal string, wrap it in a 'StringIO' object.\n",
      "  scores_fixtures_table = pd.read_html(html, match = 'Scores & Fixtures')[0]\n"
     ]
    },
    {
     "name": "stdout",
     "output_type": "stream",
     "text": [
      "https://fbref.com/en/squads/19538871/2021-2022/matchlogs/all_comps/shooting/Manchester-United-Match-Logs-All-Competitions\n"
     ]
    },
    {
     "name": "stderr",
     "output_type": "stream",
     "text": [
      "/var/folders/q1/xzbrckf15fjgp4bmp0y5w4ww0000gn/T/ipykernel_6653/541128076.py:38: FutureWarning: Passing literal html to 'read_html' is deprecated and will be removed in a future version. To read from a literal string, wrap it in a 'StringIO' object.\n",
      "  shooting_table = pd.read_html(shooting_html, attrs = {'id': 'matchlogs_for'})[0]\n"
     ]
    },
    {
     "name": "stdout",
     "output_type": "stream",
     "text": [
      "https://fbref.com/en/squads/19538871/2021-2022/matchlogs/all_comps/defense/Manchester-United-Match-Logs-All-Competitions\n"
     ]
    },
    {
     "name": "stderr",
     "output_type": "stream",
     "text": [
      "/var/folders/q1/xzbrckf15fjgp4bmp0y5w4ww0000gn/T/ipykernel_6653/541128076.py:52: FutureWarning: Passing literal html to 'read_html' is deprecated and will be removed in a future version. To read from a literal string, wrap it in a 'StringIO' object.\n",
      "  defense_table = pd.read_html(defense_html, attrs = {'id': 'matchlogs_for'})[0]\n",
      "/var/folders/q1/xzbrckf15fjgp4bmp0y5w4ww0000gn/T/ipykernel_6653/541128076.py:27: FutureWarning: Passing literal html to 'read_html' is deprecated and will be removed in a future version. To read from a literal string, wrap it in a 'StringIO' object.\n",
      "  scores_fixtures_table = pd.read_html(html, match = 'Scores & Fixtures')[0]\n"
     ]
    },
    {
     "name": "stdout",
     "output_type": "stream",
     "text": [
      "https://fbref.com/en/squads/7c21e445/2021-2022/matchlogs/all_comps/shooting/West-Ham-United-Match-Logs-All-Competitions\n"
     ]
    },
    {
     "name": "stderr",
     "output_type": "stream",
     "text": [
      "/var/folders/q1/xzbrckf15fjgp4bmp0y5w4ww0000gn/T/ipykernel_6653/541128076.py:38: FutureWarning: Passing literal html to 'read_html' is deprecated and will be removed in a future version. To read from a literal string, wrap it in a 'StringIO' object.\n",
      "  shooting_table = pd.read_html(shooting_html, attrs = {'id': 'matchlogs_for'})[0]\n"
     ]
    },
    {
     "name": "stdout",
     "output_type": "stream",
     "text": [
      "https://fbref.com/en/squads/7c21e445/2021-2022/matchlogs/all_comps/defense/West-Ham-United-Match-Logs-All-Competitions\n"
     ]
    },
    {
     "name": "stderr",
     "output_type": "stream",
     "text": [
      "/var/folders/q1/xzbrckf15fjgp4bmp0y5w4ww0000gn/T/ipykernel_6653/541128076.py:52: FutureWarning: Passing literal html to 'read_html' is deprecated and will be removed in a future version. To read from a literal string, wrap it in a 'StringIO' object.\n",
      "  defense_table = pd.read_html(defense_html, attrs = {'id': 'matchlogs_for'})[0]\n",
      "/var/folders/q1/xzbrckf15fjgp4bmp0y5w4ww0000gn/T/ipykernel_6653/541128076.py:27: FutureWarning: Passing literal html to 'read_html' is deprecated and will be removed in a future version. To read from a literal string, wrap it in a 'StringIO' object.\n",
      "  scores_fixtures_table = pd.read_html(html, match = 'Scores & Fixtures')[0]\n"
     ]
    },
    {
     "name": "stdout",
     "output_type": "stream",
     "text": [
      "https://fbref.com/en/squads/a2d435b3/2021-2022/matchlogs/all_comps/shooting/Leicester-City-Match-Logs-All-Competitions\n"
     ]
    },
    {
     "name": "stderr",
     "output_type": "stream",
     "text": [
      "/var/folders/q1/xzbrckf15fjgp4bmp0y5w4ww0000gn/T/ipykernel_6653/541128076.py:38: FutureWarning: Passing literal html to 'read_html' is deprecated and will be removed in a future version. To read from a literal string, wrap it in a 'StringIO' object.\n",
      "  shooting_table = pd.read_html(shooting_html, attrs = {'id': 'matchlogs_for'})[0]\n"
     ]
    },
    {
     "name": "stdout",
     "output_type": "stream",
     "text": [
      "https://fbref.com/en/squads/a2d435b3/2021-2022/matchlogs/all_comps/defense/Leicester-City-Match-Logs-All-Competitions\n"
     ]
    },
    {
     "name": "stderr",
     "output_type": "stream",
     "text": [
      "/var/folders/q1/xzbrckf15fjgp4bmp0y5w4ww0000gn/T/ipykernel_6653/541128076.py:52: FutureWarning: Passing literal html to 'read_html' is deprecated and will be removed in a future version. To read from a literal string, wrap it in a 'StringIO' object.\n",
      "  defense_table = pd.read_html(defense_html, attrs = {'id': 'matchlogs_for'})[0]\n",
      "/var/folders/q1/xzbrckf15fjgp4bmp0y5w4ww0000gn/T/ipykernel_6653/541128076.py:27: FutureWarning: Passing literal html to 'read_html' is deprecated and will be removed in a future version. To read from a literal string, wrap it in a 'StringIO' object.\n",
      "  scores_fixtures_table = pd.read_html(html, match = 'Scores & Fixtures')[0]\n"
     ]
    },
    {
     "name": "stdout",
     "output_type": "stream",
     "text": [
      "https://fbref.com/en/squads/d07537b9/2021-2022/matchlogs/all_comps/shooting/Brighton-and-Hove-Albion-Match-Logs-All-Competitions\n"
     ]
    },
    {
     "name": "stderr",
     "output_type": "stream",
     "text": [
      "/var/folders/q1/xzbrckf15fjgp4bmp0y5w4ww0000gn/T/ipykernel_6653/541128076.py:38: FutureWarning: Passing literal html to 'read_html' is deprecated and will be removed in a future version. To read from a literal string, wrap it in a 'StringIO' object.\n",
      "  shooting_table = pd.read_html(shooting_html, attrs = {'id': 'matchlogs_for'})[0]\n"
     ]
    },
    {
     "name": "stdout",
     "output_type": "stream",
     "text": [
      "https://fbref.com/en/squads/d07537b9/2021-2022/matchlogs/all_comps/defense/Brighton-and-Hove-Albion-Match-Logs-All-Competitions\n"
     ]
    },
    {
     "name": "stderr",
     "output_type": "stream",
     "text": [
      "/var/folders/q1/xzbrckf15fjgp4bmp0y5w4ww0000gn/T/ipykernel_6653/541128076.py:52: FutureWarning: Passing literal html to 'read_html' is deprecated and will be removed in a future version. To read from a literal string, wrap it in a 'StringIO' object.\n",
      "  defense_table = pd.read_html(defense_html, attrs = {'id': 'matchlogs_for'})[0]\n",
      "/var/folders/q1/xzbrckf15fjgp4bmp0y5w4ww0000gn/T/ipykernel_6653/541128076.py:27: FutureWarning: Passing literal html to 'read_html' is deprecated and will be removed in a future version. To read from a literal string, wrap it in a 'StringIO' object.\n",
      "  scores_fixtures_table = pd.read_html(html, match = 'Scores & Fixtures')[0]\n"
     ]
    },
    {
     "name": "stdout",
     "output_type": "stream",
     "text": [
      "https://fbref.com/en/squads/8cec06e1/2021-2022/matchlogs/all_comps/shooting/Wolverhampton-Wanderers-Match-Logs-All-Competitions\n"
     ]
    },
    {
     "name": "stderr",
     "output_type": "stream",
     "text": [
      "/var/folders/q1/xzbrckf15fjgp4bmp0y5w4ww0000gn/T/ipykernel_6653/541128076.py:38: FutureWarning: Passing literal html to 'read_html' is deprecated and will be removed in a future version. To read from a literal string, wrap it in a 'StringIO' object.\n",
      "  shooting_table = pd.read_html(shooting_html, attrs = {'id': 'matchlogs_for'})[0]\n"
     ]
    },
    {
     "name": "stdout",
     "output_type": "stream",
     "text": [
      "https://fbref.com/en/squads/8cec06e1/2021-2022/matchlogs/all_comps/defense/Wolverhampton-Wanderers-Match-Logs-All-Competitions\n"
     ]
    },
    {
     "name": "stderr",
     "output_type": "stream",
     "text": [
      "/var/folders/q1/xzbrckf15fjgp4bmp0y5w4ww0000gn/T/ipykernel_6653/541128076.py:52: FutureWarning: Passing literal html to 'read_html' is deprecated and will be removed in a future version. To read from a literal string, wrap it in a 'StringIO' object.\n",
      "  defense_table = pd.read_html(defense_html, attrs = {'id': 'matchlogs_for'})[0]\n",
      "/var/folders/q1/xzbrckf15fjgp4bmp0y5w4ww0000gn/T/ipykernel_6653/541128076.py:27: FutureWarning: Passing literal html to 'read_html' is deprecated and will be removed in a future version. To read from a literal string, wrap it in a 'StringIO' object.\n",
      "  scores_fixtures_table = pd.read_html(html, match = 'Scores & Fixtures')[0]\n"
     ]
    },
    {
     "name": "stdout",
     "output_type": "stream",
     "text": [
      "https://fbref.com/en/squads/b2b47a98/2021-2022/matchlogs/all_comps/shooting/Newcastle-United-Match-Logs-All-Competitions\n"
     ]
    },
    {
     "name": "stderr",
     "output_type": "stream",
     "text": [
      "/var/folders/q1/xzbrckf15fjgp4bmp0y5w4ww0000gn/T/ipykernel_6653/541128076.py:38: FutureWarning: Passing literal html to 'read_html' is deprecated and will be removed in a future version. To read from a literal string, wrap it in a 'StringIO' object.\n",
      "  shooting_table = pd.read_html(shooting_html, attrs = {'id': 'matchlogs_for'})[0]\n"
     ]
    },
    {
     "name": "stdout",
     "output_type": "stream",
     "text": [
      "https://fbref.com/en/squads/b2b47a98/2021-2022/matchlogs/all_comps/defense/Newcastle-United-Match-Logs-All-Competitions\n"
     ]
    },
    {
     "name": "stderr",
     "output_type": "stream",
     "text": [
      "/var/folders/q1/xzbrckf15fjgp4bmp0y5w4ww0000gn/T/ipykernel_6653/541128076.py:52: FutureWarning: Passing literal html to 'read_html' is deprecated and will be removed in a future version. To read from a literal string, wrap it in a 'StringIO' object.\n",
      "  defense_table = pd.read_html(defense_html, attrs = {'id': 'matchlogs_for'})[0]\n",
      "/var/folders/q1/xzbrckf15fjgp4bmp0y5w4ww0000gn/T/ipykernel_6653/541128076.py:27: FutureWarning: Passing literal html to 'read_html' is deprecated and will be removed in a future version. To read from a literal string, wrap it in a 'StringIO' object.\n",
      "  scores_fixtures_table = pd.read_html(html, match = 'Scores & Fixtures')[0]\n"
     ]
    },
    {
     "name": "stdout",
     "output_type": "stream",
     "text": [
      "https://fbref.com/en/squads/47c64c55/2021-2022/matchlogs/all_comps/shooting/Crystal-Palace-Match-Logs-All-Competitions\n"
     ]
    },
    {
     "name": "stderr",
     "output_type": "stream",
     "text": [
      "/var/folders/q1/xzbrckf15fjgp4bmp0y5w4ww0000gn/T/ipykernel_6653/541128076.py:38: FutureWarning: Passing literal html to 'read_html' is deprecated and will be removed in a future version. To read from a literal string, wrap it in a 'StringIO' object.\n",
      "  shooting_table = pd.read_html(shooting_html, attrs = {'id': 'matchlogs_for'})[0]\n"
     ]
    },
    {
     "name": "stdout",
     "output_type": "stream",
     "text": [
      "https://fbref.com/en/squads/47c64c55/2021-2022/matchlogs/all_comps/defense/Crystal-Palace-Match-Logs-All-Competitions\n"
     ]
    },
    {
     "name": "stderr",
     "output_type": "stream",
     "text": [
      "/var/folders/q1/xzbrckf15fjgp4bmp0y5w4ww0000gn/T/ipykernel_6653/541128076.py:52: FutureWarning: Passing literal html to 'read_html' is deprecated and will be removed in a future version. To read from a literal string, wrap it in a 'StringIO' object.\n",
      "  defense_table = pd.read_html(defense_html, attrs = {'id': 'matchlogs_for'})[0]\n",
      "/var/folders/q1/xzbrckf15fjgp4bmp0y5w4ww0000gn/T/ipykernel_6653/541128076.py:27: FutureWarning: Passing literal html to 'read_html' is deprecated and will be removed in a future version. To read from a literal string, wrap it in a 'StringIO' object.\n",
      "  scores_fixtures_table = pd.read_html(html, match = 'Scores & Fixtures')[0]\n"
     ]
    },
    {
     "name": "stdout",
     "output_type": "stream",
     "text": [
      "https://fbref.com/en/squads/cd051869/2021-2022/matchlogs/all_comps/shooting/Brentford-Match-Logs-All-Competitions\n"
     ]
    },
    {
     "name": "stderr",
     "output_type": "stream",
     "text": [
      "/var/folders/q1/xzbrckf15fjgp4bmp0y5w4ww0000gn/T/ipykernel_6653/541128076.py:38: FutureWarning: Passing literal html to 'read_html' is deprecated and will be removed in a future version. To read from a literal string, wrap it in a 'StringIO' object.\n",
      "  shooting_table = pd.read_html(shooting_html, attrs = {'id': 'matchlogs_for'})[0]\n"
     ]
    },
    {
     "name": "stdout",
     "output_type": "stream",
     "text": [
      "https://fbref.com/en/squads/cd051869/2021-2022/matchlogs/all_comps/defense/Brentford-Match-Logs-All-Competitions\n"
     ]
    },
    {
     "name": "stderr",
     "output_type": "stream",
     "text": [
      "/var/folders/q1/xzbrckf15fjgp4bmp0y5w4ww0000gn/T/ipykernel_6653/541128076.py:52: FutureWarning: Passing literal html to 'read_html' is deprecated and will be removed in a future version. To read from a literal string, wrap it in a 'StringIO' object.\n",
      "  defense_table = pd.read_html(defense_html, attrs = {'id': 'matchlogs_for'})[0]\n",
      "/var/folders/q1/xzbrckf15fjgp4bmp0y5w4ww0000gn/T/ipykernel_6653/541128076.py:27: FutureWarning: Passing literal html to 'read_html' is deprecated and will be removed in a future version. To read from a literal string, wrap it in a 'StringIO' object.\n",
      "  scores_fixtures_table = pd.read_html(html, match = 'Scores & Fixtures')[0]\n"
     ]
    },
    {
     "name": "stdout",
     "output_type": "stream",
     "text": [
      "https://fbref.com/en/squads/8602292d/2021-2022/matchlogs/all_comps/shooting/Aston-Villa-Match-Logs-All-Competitions\n"
     ]
    },
    {
     "name": "stderr",
     "output_type": "stream",
     "text": [
      "/var/folders/q1/xzbrckf15fjgp4bmp0y5w4ww0000gn/T/ipykernel_6653/541128076.py:38: FutureWarning: Passing literal html to 'read_html' is deprecated and will be removed in a future version. To read from a literal string, wrap it in a 'StringIO' object.\n",
      "  shooting_table = pd.read_html(shooting_html, attrs = {'id': 'matchlogs_for'})[0]\n"
     ]
    },
    {
     "name": "stdout",
     "output_type": "stream",
     "text": [
      "https://fbref.com/en/squads/8602292d/2021-2022/matchlogs/all_comps/defense/Aston-Villa-Match-Logs-All-Competitions\n"
     ]
    },
    {
     "name": "stderr",
     "output_type": "stream",
     "text": [
      "/var/folders/q1/xzbrckf15fjgp4bmp0y5w4ww0000gn/T/ipykernel_6653/541128076.py:52: FutureWarning: Passing literal html to 'read_html' is deprecated and will be removed in a future version. To read from a literal string, wrap it in a 'StringIO' object.\n",
      "  defense_table = pd.read_html(defense_html, attrs = {'id': 'matchlogs_for'})[0]\n",
      "/var/folders/q1/xzbrckf15fjgp4bmp0y5w4ww0000gn/T/ipykernel_6653/541128076.py:27: FutureWarning: Passing literal html to 'read_html' is deprecated and will be removed in a future version. To read from a literal string, wrap it in a 'StringIO' object.\n",
      "  scores_fixtures_table = pd.read_html(html, match = 'Scores & Fixtures')[0]\n"
     ]
    },
    {
     "name": "stdout",
     "output_type": "stream",
     "text": [
      "https://fbref.com/en/squads/33c895d4/2021-2022/matchlogs/all_comps/shooting/Southampton-Match-Logs-All-Competitions\n"
     ]
    },
    {
     "name": "stderr",
     "output_type": "stream",
     "text": [
      "/var/folders/q1/xzbrckf15fjgp4bmp0y5w4ww0000gn/T/ipykernel_6653/541128076.py:38: FutureWarning: Passing literal html to 'read_html' is deprecated and will be removed in a future version. To read from a literal string, wrap it in a 'StringIO' object.\n",
      "  shooting_table = pd.read_html(shooting_html, attrs = {'id': 'matchlogs_for'})[0]\n"
     ]
    },
    {
     "name": "stdout",
     "output_type": "stream",
     "text": [
      "https://fbref.com/en/squads/33c895d4/2021-2022/matchlogs/all_comps/defense/Southampton-Match-Logs-All-Competitions\n"
     ]
    },
    {
     "name": "stderr",
     "output_type": "stream",
     "text": [
      "/var/folders/q1/xzbrckf15fjgp4bmp0y5w4ww0000gn/T/ipykernel_6653/541128076.py:52: FutureWarning: Passing literal html to 'read_html' is deprecated and will be removed in a future version. To read from a literal string, wrap it in a 'StringIO' object.\n",
      "  defense_table = pd.read_html(defense_html, attrs = {'id': 'matchlogs_for'})[0]\n",
      "/var/folders/q1/xzbrckf15fjgp4bmp0y5w4ww0000gn/T/ipykernel_6653/541128076.py:27: FutureWarning: Passing literal html to 'read_html' is deprecated and will be removed in a future version. To read from a literal string, wrap it in a 'StringIO' object.\n",
      "  scores_fixtures_table = pd.read_html(html, match = 'Scores & Fixtures')[0]\n"
     ]
    },
    {
     "name": "stdout",
     "output_type": "stream",
     "text": [
      "https://fbref.com/en/squads/d3fd31cc/2021-2022/matchlogs/all_comps/shooting/Everton-Match-Logs-All-Competitions\n"
     ]
    },
    {
     "name": "stderr",
     "output_type": "stream",
     "text": [
      "/var/folders/q1/xzbrckf15fjgp4bmp0y5w4ww0000gn/T/ipykernel_6653/541128076.py:38: FutureWarning: Passing literal html to 'read_html' is deprecated and will be removed in a future version. To read from a literal string, wrap it in a 'StringIO' object.\n",
      "  shooting_table = pd.read_html(shooting_html, attrs = {'id': 'matchlogs_for'})[0]\n"
     ]
    },
    {
     "name": "stdout",
     "output_type": "stream",
     "text": [
      "https://fbref.com/en/squads/d3fd31cc/2021-2022/matchlogs/all_comps/defense/Everton-Match-Logs-All-Competitions\n"
     ]
    },
    {
     "name": "stderr",
     "output_type": "stream",
     "text": [
      "/var/folders/q1/xzbrckf15fjgp4bmp0y5w4ww0000gn/T/ipykernel_6653/541128076.py:52: FutureWarning: Passing literal html to 'read_html' is deprecated and will be removed in a future version. To read from a literal string, wrap it in a 'StringIO' object.\n",
      "  defense_table = pd.read_html(defense_html, attrs = {'id': 'matchlogs_for'})[0]\n",
      "/var/folders/q1/xzbrckf15fjgp4bmp0y5w4ww0000gn/T/ipykernel_6653/541128076.py:27: FutureWarning: Passing literal html to 'read_html' is deprecated and will be removed in a future version. To read from a literal string, wrap it in a 'StringIO' object.\n",
      "  scores_fixtures_table = pd.read_html(html, match = 'Scores & Fixtures')[0]\n"
     ]
    },
    {
     "name": "stdout",
     "output_type": "stream",
     "text": [
      "https://fbref.com/en/squads/5bfb9659/2021-2022/matchlogs/all_comps/shooting/Leeds-United-Match-Logs-All-Competitions\n"
     ]
    },
    {
     "name": "stderr",
     "output_type": "stream",
     "text": [
      "/var/folders/q1/xzbrckf15fjgp4bmp0y5w4ww0000gn/T/ipykernel_6653/541128076.py:38: FutureWarning: Passing literal html to 'read_html' is deprecated and will be removed in a future version. To read from a literal string, wrap it in a 'StringIO' object.\n",
      "  shooting_table = pd.read_html(shooting_html, attrs = {'id': 'matchlogs_for'})[0]\n"
     ]
    },
    {
     "name": "stdout",
     "output_type": "stream",
     "text": [
      "https://fbref.com/en/squads/5bfb9659/2021-2022/matchlogs/all_comps/defense/Leeds-United-Match-Logs-All-Competitions\n"
     ]
    },
    {
     "name": "stderr",
     "output_type": "stream",
     "text": [
      "/var/folders/q1/xzbrckf15fjgp4bmp0y5w4ww0000gn/T/ipykernel_6653/541128076.py:52: FutureWarning: Passing literal html to 'read_html' is deprecated and will be removed in a future version. To read from a literal string, wrap it in a 'StringIO' object.\n",
      "  defense_table = pd.read_html(defense_html, attrs = {'id': 'matchlogs_for'})[0]\n",
      "/var/folders/q1/xzbrckf15fjgp4bmp0y5w4ww0000gn/T/ipykernel_6653/541128076.py:27: FutureWarning: Passing literal html to 'read_html' is deprecated and will be removed in a future version. To read from a literal string, wrap it in a 'StringIO' object.\n",
      "  scores_fixtures_table = pd.read_html(html, match = 'Scores & Fixtures')[0]\n"
     ]
    },
    {
     "name": "stdout",
     "output_type": "stream",
     "text": [
      "https://fbref.com/en/squads/943e8050/2021-2022/matchlogs/all_comps/shooting/Burnley-Match-Logs-All-Competitions\n"
     ]
    },
    {
     "name": "stderr",
     "output_type": "stream",
     "text": [
      "/var/folders/q1/xzbrckf15fjgp4bmp0y5w4ww0000gn/T/ipykernel_6653/541128076.py:38: FutureWarning: Passing literal html to 'read_html' is deprecated and will be removed in a future version. To read from a literal string, wrap it in a 'StringIO' object.\n",
      "  shooting_table = pd.read_html(shooting_html, attrs = {'id': 'matchlogs_for'})[0]\n"
     ]
    },
    {
     "name": "stdout",
     "output_type": "stream",
     "text": [
      "https://fbref.com/en/squads/943e8050/2021-2022/matchlogs/all_comps/defense/Burnley-Match-Logs-All-Competitions\n"
     ]
    },
    {
     "name": "stderr",
     "output_type": "stream",
     "text": [
      "/var/folders/q1/xzbrckf15fjgp4bmp0y5w4ww0000gn/T/ipykernel_6653/541128076.py:52: FutureWarning: Passing literal html to 'read_html' is deprecated and will be removed in a future version. To read from a literal string, wrap it in a 'StringIO' object.\n",
      "  defense_table = pd.read_html(defense_html, attrs = {'id': 'matchlogs_for'})[0]\n",
      "/var/folders/q1/xzbrckf15fjgp4bmp0y5w4ww0000gn/T/ipykernel_6653/541128076.py:27: FutureWarning: Passing literal html to 'read_html' is deprecated and will be removed in a future version. To read from a literal string, wrap it in a 'StringIO' object.\n",
      "  scores_fixtures_table = pd.read_html(html, match = 'Scores & Fixtures')[0]\n"
     ]
    },
    {
     "name": "stdout",
     "output_type": "stream",
     "text": [
      "https://fbref.com/en/squads/2abfe087/2021-2022/matchlogs/all_comps/shooting/Watford-Match-Logs-All-Competitions\n"
     ]
    },
    {
     "name": "stderr",
     "output_type": "stream",
     "text": [
      "/var/folders/q1/xzbrckf15fjgp4bmp0y5w4ww0000gn/T/ipykernel_6653/541128076.py:38: FutureWarning: Passing literal html to 'read_html' is deprecated and will be removed in a future version. To read from a literal string, wrap it in a 'StringIO' object.\n",
      "  shooting_table = pd.read_html(shooting_html, attrs = {'id': 'matchlogs_for'})[0]\n"
     ]
    },
    {
     "name": "stdout",
     "output_type": "stream",
     "text": [
      "https://fbref.com/en/squads/2abfe087/2021-2022/matchlogs/all_comps/defense/Watford-Match-Logs-All-Competitions\n"
     ]
    },
    {
     "name": "stderr",
     "output_type": "stream",
     "text": [
      "/var/folders/q1/xzbrckf15fjgp4bmp0y5w4ww0000gn/T/ipykernel_6653/541128076.py:52: FutureWarning: Passing literal html to 'read_html' is deprecated and will be removed in a future version. To read from a literal string, wrap it in a 'StringIO' object.\n",
      "  defense_table = pd.read_html(defense_html, attrs = {'id': 'matchlogs_for'})[0]\n",
      "/var/folders/q1/xzbrckf15fjgp4bmp0y5w4ww0000gn/T/ipykernel_6653/541128076.py:27: FutureWarning: Passing literal html to 'read_html' is deprecated and will be removed in a future version. To read from a literal string, wrap it in a 'StringIO' object.\n",
      "  scores_fixtures_table = pd.read_html(html, match = 'Scores & Fixtures')[0]\n"
     ]
    },
    {
     "name": "stdout",
     "output_type": "stream",
     "text": [
      "https://fbref.com/en/squads/1c781004/2021-2022/matchlogs/all_comps/shooting/Norwich-City-Match-Logs-All-Competitions\n"
     ]
    },
    {
     "name": "stderr",
     "output_type": "stream",
     "text": [
      "/var/folders/q1/xzbrckf15fjgp4bmp0y5w4ww0000gn/T/ipykernel_6653/541128076.py:38: FutureWarning: Passing literal html to 'read_html' is deprecated and will be removed in a future version. To read from a literal string, wrap it in a 'StringIO' object.\n",
      "  shooting_table = pd.read_html(shooting_html, attrs = {'id': 'matchlogs_for'})[0]\n"
     ]
    },
    {
     "name": "stdout",
     "output_type": "stream",
     "text": [
      "https://fbref.com/en/squads/1c781004/2021-2022/matchlogs/all_comps/defense/Norwich-City-Match-Logs-All-Competitions\n",
      "60\n"
     ]
    },
    {
     "name": "stderr",
     "output_type": "stream",
     "text": [
      "/var/folders/q1/xzbrckf15fjgp4bmp0y5w4ww0000gn/T/ipykernel_6653/541128076.py:52: FutureWarning: Passing literal html to 'read_html' is deprecated and will be removed in a future version. To read from a literal string, wrap it in a 'StringIO' object.\n",
      "  defense_table = pd.read_html(defense_html, attrs = {'id': 'matchlogs_for'})[0]\n"
     ]
    }
   ],
   "source": [
    "stats_url = 'https://fbref.com/en/comps/9/2023-2024/2023-2024-Premier-League-Stats'\n",
    "seasons = [2024, 2023, 2022] # modified years as 2025 shooting & defense data supports different HTML/JS format\n",
    "prem_matches = []\n",
    "\n",
    "options = webdriver.ChromeOptions()\n",
    "options.add_argument('--headless')\n",
    "driver = webdriver.Chrome(options = options)\n",
    "\n",
    "for season in seasons:\n",
    "    driver.get(stats_url)\n",
    "    time.sleep(6)\n",
    "    html = driver.page_source\n",
    "    soup = BeautifulSoup(html, 'html.parser')\n",
    "    standing_table = soup.select_one('table.stats_table')\n",
    "\n",
    "    links = [l.get('href') for l in standing_table.find_all('a') if '/squads' in l.get('href')] # get all links that's in <a> tag with path '/squads' from standing_table\n",
    "    team_urls = [f'https://fbref.com{link}' for link in links] # convert it to team page links\n",
    "\n",
    "    prev = soup.select_one('a.prev').get('href')\n",
    "    stats_url = f'https://fbref.com{prev}' # set the stats_url link to previous season stats page to access previous season's data on next iteration\n",
    "\n",
    "    for team_url in team_urls:\n",
    "        team_name = team_url.split('/')[-1].replace('-Stats', '')\n",
    "        driver.get(team_url)\n",
    "        time.sleep(6)\n",
    "        html = driver.page_source\n",
    "        scores_fixtures_table = pd.read_html(html, match = 'Scores & Fixtures')[0]\n",
    "\n",
    "        shooting_url = '/'.join(team_url.split('/')[:-1]) + f'/matchlogs/all_comps/shooting/{team_name}-Match-Logs-All-Competitions'\n",
    "        # shooting_url: https://fbref.com/en/squads/822bd0ba/2024-2025/matchlogs/all_comps/shooting/Liverpool-Match-Logs-All-Competitions form\n",
    "        print(shooting_url)\n",
    "\n",
    "        # check if shooting table exist since some teams are missing this data (ex. Aston Villa)\n",
    "        try:\n",
    "            driver.get(shooting_url)\n",
    "            time.sleep(4)\n",
    "            shooting_html = driver.page_source\n",
    "            shooting_table = pd.read_html(shooting_html, attrs = {'id': 'matchlogs_for'})[0]\n",
    "            shooting_table.columns = shooting_table.columns.droplevel()\n",
    "        except:\n",
    "            print(f'[SKIP] Shooting table for {team_name} - Season {season} does not exist')\n",
    "\n",
    "        defense_url = '/'.join(team_url.split('/')[:-1]) + f'/matchlogs/all_comps/defense/{team_name}-Match-Logs-All-Competitions'\n",
    "        # defense_url: https://fbref.com/en/squads/822bd0ba/2024-2025/matchlogs/all_comps/defense/Liverpool-Match-Logs-All-Competitions form\n",
    "        print(defense_url)\n",
    "\n",
    "        # check if defense table exist\n",
    "        try: \n",
    "            driver.get(defense_url)\n",
    "            time.sleep(6)\n",
    "            defense_html = driver.page_source\n",
    "            defense_table = pd.read_html(defense_html, attrs = {'id': 'matchlogs_for'})[0]\n",
    "            defense_table.columns = defense_table.columns.droplevel()\n",
    "        except:\n",
    "            print(f'[SKIP] Defense table for {team_name} - Season {season} does not exist')\n",
    "\n",
    "\n",
    "        team_df = (scores_fixtures_table.merge(shooting_table[[\"Date\", \"Sh\", \"SoT\", \"Dist\", \"FK\", \"PK\", \"xG\"]], on = 'Date', how = 'left')\n",
    "        .merge(defense_table[[\"Date\", \"Tkl\", \"TklW\", \"Int\", \"Clr\", \"Blocks\", \"Err\"]], on = 'Date', how = 'left'))\n",
    "            \n",
    "        team_df = team_df[team_df[\"Comp\"] == \"Premier League\"]\n",
    "        team_df['Season'] = season\n",
    "        team_df['Team'] = team_name\n",
    "        prem_matches.append(team_df)\n",
    "    \n",
    "driver.quit()\n",
    "print(len(prem_matches))\n"
   ]
  },
  {
   "cell_type": "code",
   "execution_count": 36,
   "metadata": {},
   "outputs": [
    {
     "name": "stdout",
     "output_type": "stream",
     "text": [
      "60\n"
     ]
    }
   ],
   "source": [
    "print((len(prem_matches)))"
   ]
  },
  {
   "cell_type": "code",
   "execution_count": 37,
   "metadata": {},
   "outputs": [
    {
     "data": {
      "text/html": [
       "<div>\n",
       "<style scoped>\n",
       "    .dataframe tbody tr th:only-of-type {\n",
       "        vertical-align: middle;\n",
       "    }\n",
       "\n",
       "    .dataframe tbody tr th {\n",
       "        vertical-align: top;\n",
       "    }\n",
       "\n",
       "    .dataframe thead th {\n",
       "        text-align: right;\n",
       "    }\n",
       "</style>\n",
       "<table border=\"1\" class=\"dataframe\">\n",
       "  <thead>\n",
       "    <tr style=\"text-align: right;\">\n",
       "      <th></th>\n",
       "      <th>Date</th>\n",
       "      <th>Time</th>\n",
       "      <th>Comp</th>\n",
       "      <th>Round</th>\n",
       "      <th>Day</th>\n",
       "      <th>Venue</th>\n",
       "      <th>Result</th>\n",
       "      <th>GF</th>\n",
       "      <th>GA</th>\n",
       "      <th>Opponent</th>\n",
       "      <th>...</th>\n",
       "      <th>xG_y</th>\n",
       "      <th>Tkl</th>\n",
       "      <th>Tkl</th>\n",
       "      <th>TklW</th>\n",
       "      <th>Int</th>\n",
       "      <th>Clr</th>\n",
       "      <th>Blocks</th>\n",
       "      <th>Err</th>\n",
       "      <th>Season</th>\n",
       "      <th>Team</th>\n",
       "    </tr>\n",
       "  </thead>\n",
       "  <tbody>\n",
       "    <tr>\n",
       "      <th>1</th>\n",
       "      <td>2023-08-11</td>\n",
       "      <td>20:00 (04:00)</td>\n",
       "      <td>Premier League</td>\n",
       "      <td>Matchweek 1</td>\n",
       "      <td>Fri</td>\n",
       "      <td>Away</td>\n",
       "      <td>W</td>\n",
       "      <td>3</td>\n",
       "      <td>0</td>\n",
       "      <td>Burnley</td>\n",
       "      <td>...</td>\n",
       "      <td>1.9</td>\n",
       "      <td>17</td>\n",
       "      <td>12</td>\n",
       "      <td>12</td>\n",
       "      <td>4</td>\n",
       "      <td>7</td>\n",
       "      <td>9</td>\n",
       "      <td>2</td>\n",
       "      <td>2024</td>\n",
       "      <td>Manchester-City</td>\n",
       "    </tr>\n",
       "    <tr>\n",
       "      <th>3</th>\n",
       "      <td>2023-08-19</td>\n",
       "      <td>20:00 (04:00)</td>\n",
       "      <td>Premier League</td>\n",
       "      <td>Matchweek 2</td>\n",
       "      <td>Sat</td>\n",
       "      <td>Home</td>\n",
       "      <td>W</td>\n",
       "      <td>1</td>\n",
       "      <td>0</td>\n",
       "      <td>Newcastle Utd</td>\n",
       "      <td>...</td>\n",
       "      <td>1.0</td>\n",
       "      <td>11</td>\n",
       "      <td>4</td>\n",
       "      <td>7</td>\n",
       "      <td>4</td>\n",
       "      <td>10</td>\n",
       "      <td>9</td>\n",
       "      <td>1</td>\n",
       "      <td>2024</td>\n",
       "      <td>Manchester-City</td>\n",
       "    </tr>\n",
       "    <tr>\n",
       "      <th>4</th>\n",
       "      <td>2023-08-27</td>\n",
       "      <td>14:00 (22:00)</td>\n",
       "      <td>Premier League</td>\n",
       "      <td>Matchweek 3</td>\n",
       "      <td>Sun</td>\n",
       "      <td>Away</td>\n",
       "      <td>W</td>\n",
       "      <td>2</td>\n",
       "      <td>1</td>\n",
       "      <td>Sheffield Utd</td>\n",
       "      <td>...</td>\n",
       "      <td>3.5</td>\n",
       "      <td>12</td>\n",
       "      <td>7</td>\n",
       "      <td>8</td>\n",
       "      <td>4</td>\n",
       "      <td>6</td>\n",
       "      <td>10</td>\n",
       "      <td>0</td>\n",
       "      <td>2024</td>\n",
       "      <td>Manchester-City</td>\n",
       "    </tr>\n",
       "    <tr>\n",
       "      <th>5</th>\n",
       "      <td>2023-09-02</td>\n",
       "      <td>15:00 (23:00)</td>\n",
       "      <td>Premier League</td>\n",
       "      <td>Matchweek 4</td>\n",
       "      <td>Sat</td>\n",
       "      <td>Home</td>\n",
       "      <td>W</td>\n",
       "      <td>5</td>\n",
       "      <td>1</td>\n",
       "      <td>Fulham</td>\n",
       "      <td>...</td>\n",
       "      <td>2.2</td>\n",
       "      <td>17</td>\n",
       "      <td>6</td>\n",
       "      <td>10</td>\n",
       "      <td>8</td>\n",
       "      <td>11</td>\n",
       "      <td>2</td>\n",
       "      <td>0</td>\n",
       "      <td>2024</td>\n",
       "      <td>Manchester-City</td>\n",
       "    </tr>\n",
       "    <tr>\n",
       "      <th>6</th>\n",
       "      <td>2023-09-16</td>\n",
       "      <td>15:00 (23:00)</td>\n",
       "      <td>Premier League</td>\n",
       "      <td>Matchweek 5</td>\n",
       "      <td>Sat</td>\n",
       "      <td>Away</td>\n",
       "      <td>W</td>\n",
       "      <td>3</td>\n",
       "      <td>1</td>\n",
       "      <td>West Ham</td>\n",
       "      <td>...</td>\n",
       "      <td>3.6</td>\n",
       "      <td>11</td>\n",
       "      <td>5</td>\n",
       "      <td>7</td>\n",
       "      <td>7</td>\n",
       "      <td>9</td>\n",
       "      <td>7</td>\n",
       "      <td>0</td>\n",
       "      <td>2024</td>\n",
       "      <td>Manchester-City</td>\n",
       "    </tr>\n",
       "  </tbody>\n",
       "</table>\n",
       "<p>5 rows × 35 columns</p>\n",
       "</div>"
      ],
      "text/plain": [
       "         Date           Time            Comp        Round  Day Venue Result  \\\n",
       "1  2023-08-11  20:00 (04:00)  Premier League  Matchweek 1  Fri  Away      W   \n",
       "3  2023-08-19  20:00 (04:00)  Premier League  Matchweek 2  Sat  Home      W   \n",
       "4  2023-08-27  14:00 (22:00)  Premier League  Matchweek 3  Sun  Away      W   \n",
       "5  2023-09-02  15:00 (23:00)  Premier League  Matchweek 4  Sat  Home      W   \n",
       "6  2023-09-16  15:00 (23:00)  Premier League  Matchweek 5  Sat  Away      W   \n",
       "\n",
       "  GF GA       Opponent  ... xG_y Tkl Tkl TklW Int Clr Blocks Err Season  \\\n",
       "1  3  0        Burnley  ...  1.9  17  12   12   4   7      9   2   2024   \n",
       "3  1  0  Newcastle Utd  ...  1.0  11   4    7   4  10      9   1   2024   \n",
       "4  2  1  Sheffield Utd  ...  3.5  12   7    8   4   6     10   0   2024   \n",
       "5  5  1         Fulham  ...  2.2  17   6   10   8  11      2   0   2024   \n",
       "6  3  1       West Ham  ...  3.6  11   5    7   7   9      7   0   2024   \n",
       "\n",
       "              Team  \n",
       "1  Manchester-City  \n",
       "3  Manchester-City  \n",
       "4  Manchester-City  \n",
       "5  Manchester-City  \n",
       "6  Manchester-City  \n",
       "\n",
       "[5 rows x 35 columns]"
      ]
     },
     "execution_count": 37,
     "metadata": {},
     "output_type": "execute_result"
    }
   ],
   "source": [
    "prem_df = pd.concat(prem_matches)\n",
    "prem_df.head()"
   ]
  },
  {
   "cell_type": "code",
   "execution_count": 38,
   "metadata": {},
   "outputs": [
    {
     "data": {
      "text/plain": [
       "Index(['Date', 'Time', 'Comp', 'Round', 'Day', 'Venue', 'Result', 'GF', 'GA',\n",
       "       'Opponent', 'xG_x', 'xGA', 'Poss', 'Attendance', 'Captain', 'Formation',\n",
       "       'Opp Formation', 'Referee', 'Match Report', 'Notes', 'Sh', 'SoT',\n",
       "       'Dist', 'FK', 'PK', 'xG_y', 'Tkl', 'Tkl', 'TklW', 'Int', 'Clr',\n",
       "       'Blocks', 'Err', 'Season', 'Team'],\n",
       "      dtype='object')"
      ]
     },
     "execution_count": 38,
     "metadata": {},
     "output_type": "execute_result"
    }
   ],
   "source": [
    "prem_df.columns"
   ]
  },
  {
   "cell_type": "code",
   "execution_count": 39,
   "metadata": {},
   "outputs": [
    {
     "data": {
      "text/plain": [
       "Team\n",
       "Arsenal                     114\n",
       "Aston-Villa                 114\n",
       "Bournemouth                  76\n",
       "Brentford                   114\n",
       "Brighton-and-Hove-Albion    114\n",
       "Burnley                      76\n",
       "Chelsea                     114\n",
       "Crystal-Palace              114\n",
       "Everton                     114\n",
       "Fulham                       76\n",
       "Leeds-United                 76\n",
       "Leicester-City               76\n",
       "Liverpool                   114\n",
       "Luton-Town                   38\n",
       "Manchester-City             114\n",
       "Manchester-United           114\n",
       "Newcastle-United            114\n",
       "Norwich-City                 38\n",
       "Nottingham-Forest            76\n",
       "Sheffield-United             38\n",
       "Southampton                  76\n",
       "Tottenham-Hotspur           114\n",
       "Watford                      38\n",
       "West-Ham-United             114\n",
       "Wolverhampton-Wanderers     114\n",
       "Name: Date, dtype: int64"
      ]
     },
     "execution_count": 39,
     "metadata": {},
     "output_type": "execute_result"
    }
   ],
   "source": [
    "prem_df.groupby('Team')['Date'].count() # count of total games each team has"
   ]
  },
  {
   "cell_type": "code",
   "execution_count": 40,
   "metadata": {},
   "outputs": [
    {
     "data": {
      "text/plain": [
       "Team\n",
       "Arsenal                     114\n",
       "Aston-Villa                 114\n",
       "Bournemouth                  76\n",
       "Brentford                   114\n",
       "Brighton-and-Hove-Albion    114\n",
       "Burnley                      76\n",
       "Chelsea                     114\n",
       "Crystal-Palace              114\n",
       "Everton                     114\n",
       "Fulham                       76\n",
       "Leeds-United                 76\n",
       "Leicester-City               76\n",
       "Liverpool                   114\n",
       "Luton-Town                   38\n",
       "Manchester-City             114\n",
       "Manchester-United           114\n",
       "Newcastle-United            114\n",
       "Norwich-City                 38\n",
       "Nottingham-Forest            76\n",
       "Sheffield-United             38\n",
       "Southampton                  76\n",
       "Tottenham-Hotspur           114\n",
       "Watford                      38\n",
       "West-Ham-United             114\n",
       "Wolverhampton-Wanderers     114\n",
       "Name: Sh, dtype: int64"
      ]
     },
     "execution_count": 40,
     "metadata": {},
     "output_type": "execute_result"
    }
   ],
   "source": [
    "prem_df.groupby('Team')['Sh'].count() # count of total shooting data each team has"
   ]
  },
  {
   "cell_type": "code",
   "execution_count": 41,
   "metadata": {},
   "outputs": [
    {
     "data": {
      "text/plain": [
       "Team\n",
       "Arsenal                     114\n",
       "Aston-Villa                 114\n",
       "Bournemouth                  76\n",
       "Brentford                   114\n",
       "Brighton-and-Hove-Albion    114\n",
       "Burnley                      76\n",
       "Chelsea                     114\n",
       "Crystal-Palace              114\n",
       "Everton                     114\n",
       "Fulham                       76\n",
       "Leeds-United                 76\n",
       "Leicester-City               76\n",
       "Liverpool                   114\n",
       "Luton-Town                   38\n",
       "Manchester-City             114\n",
       "Manchester-United           114\n",
       "Newcastle-United            114\n",
       "Norwich-City                 38\n",
       "Nottingham-Forest            76\n",
       "Sheffield-United             38\n",
       "Southampton                  76\n",
       "Tottenham-Hotspur           114\n",
       "Watford                      38\n",
       "West-Ham-United             114\n",
       "Wolverhampton-Wanderers     114\n",
       "Name: Blocks, dtype: int64"
      ]
     },
     "execution_count": 41,
     "metadata": {},
     "output_type": "execute_result"
    }
   ],
   "source": [
    "prem_df.groupby('Team')['Blocks'].count() # count of total defense data each team has"
   ]
  },
  {
   "cell_type": "code",
   "execution_count": 42,
   "metadata": {},
   "outputs": [
    {
     "data": {
      "text/plain": [
       "Team\n",
       "Manchester-City             114\n",
       "West-Ham-United             114\n",
       "Brentford                   114\n",
       "Everton                     114\n",
       "Wolverhampton-Wanderers     114\n",
       "Arsenal                     114\n",
       "Brighton-and-Hove-Albion    114\n",
       "Crystal-Palace              114\n",
       "Manchester-United           114\n",
       "Newcastle-United            114\n",
       "Chelsea                     114\n",
       "Tottenham-Hotspur           114\n",
       "Aston-Villa                 114\n",
       "Liverpool                   114\n",
       "Burnley                      76\n",
       "Southampton                  76\n",
       "Leeds-United                 76\n",
       "Leicester-City               76\n",
       "Fulham                       76\n",
       "Nottingham-Forest            76\n",
       "Bournemouth                  76\n",
       "Sheffield-United             38\n",
       "Luton-Town                   38\n",
       "Watford                      38\n",
       "Norwich-City                 38\n",
       "Name: count, dtype: int64"
      ]
     },
     "execution_count": 42,
     "metadata": {},
     "output_type": "execute_result"
    }
   ],
   "source": [
    "prem_df['Team'].value_counts()"
   ]
  },
  {
   "cell_type": "code",
   "execution_count": 45,
   "metadata": {},
   "outputs": [
    {
     "data": {
      "text/html": [
       "<div>\n",
       "<style scoped>\n",
       "    .dataframe tbody tr th:only-of-type {\n",
       "        vertical-align: middle;\n",
       "    }\n",
       "\n",
       "    .dataframe tbody tr th {\n",
       "        vertical-align: top;\n",
       "    }\n",
       "\n",
       "    .dataframe thead th {\n",
       "        text-align: right;\n",
       "    }\n",
       "</style>\n",
       "<table border=\"1\" class=\"dataframe\">\n",
       "  <thead>\n",
       "    <tr style=\"text-align: right;\">\n",
       "      <th></th>\n",
       "      <th>Date</th>\n",
       "      <th>Sh</th>\n",
       "      <th>SoT</th>\n",
       "      <th>Dist</th>\n",
       "      <th>FK</th>\n",
       "      <th>PK</th>\n",
       "      <th>xG_y</th>\n",
       "    </tr>\n",
       "  </thead>\n",
       "  <tbody>\n",
       "    <tr>\n",
       "      <th>0</th>\n",
       "      <td>2023-08-13</td>\n",
       "      <td>18</td>\n",
       "      <td>6</td>\n",
       "      <td>19.6</td>\n",
       "      <td>0</td>\n",
       "      <td>0</td>\n",
       "      <td>1.3</td>\n",
       "    </tr>\n",
       "    <tr>\n",
       "      <th>1</th>\n",
       "      <td>2023-08-19</td>\n",
       "      <td>17</td>\n",
       "      <td>6</td>\n",
       "      <td>13.8</td>\n",
       "      <td>0</td>\n",
       "      <td>0</td>\n",
       "      <td>1.7</td>\n",
       "    </tr>\n",
       "    <tr>\n",
       "      <th>2</th>\n",
       "      <td>2023-08-26</td>\n",
       "      <td>17</td>\n",
       "      <td>6</td>\n",
       "      <td>16.6</td>\n",
       "      <td>1</td>\n",
       "      <td>0</td>\n",
       "      <td>2.1</td>\n",
       "    </tr>\n",
       "    <tr>\n",
       "      <th>4</th>\n",
       "      <td>2023-09-02</td>\n",
       "      <td>21</td>\n",
       "      <td>11</td>\n",
       "      <td>19.3</td>\n",
       "      <td>0</td>\n",
       "      <td>0</td>\n",
       "      <td>2.2</td>\n",
       "    </tr>\n",
       "    <tr>\n",
       "      <th>5</th>\n",
       "      <td>2023-09-16</td>\n",
       "      <td>28</td>\n",
       "      <td>10</td>\n",
       "      <td>16.4</td>\n",
       "      <td>0</td>\n",
       "      <td>0</td>\n",
       "      <td>2.1</td>\n",
       "    </tr>\n",
       "    <tr>\n",
       "      <th>6</th>\n",
       "      <td>2023-09-24</td>\n",
       "      <td>13</td>\n",
       "      <td>5</td>\n",
       "      <td>16.0</td>\n",
       "      <td>0</td>\n",
       "      <td>0</td>\n",
       "      <td>1.4</td>\n",
       "    </tr>\n",
       "    <tr>\n",
       "      <th>7</th>\n",
       "      <td>2023-09-30</td>\n",
       "      <td>24</td>\n",
       "      <td>8</td>\n",
       "      <td>19.8</td>\n",
       "      <td>0</td>\n",
       "      <td>0</td>\n",
       "      <td>2.2</td>\n",
       "    </tr>\n",
       "    <tr>\n",
       "      <th>8</th>\n",
       "      <td>2023-10-07</td>\n",
       "      <td>15</td>\n",
       "      <td>4</td>\n",
       "      <td>16.9</td>\n",
       "      <td>1</td>\n",
       "      <td>0</td>\n",
       "      <td>1.9</td>\n",
       "    </tr>\n",
       "    <tr>\n",
       "      <th>9</th>\n",
       "      <td>2023-10-23</td>\n",
       "      <td>15</td>\n",
       "      <td>5</td>\n",
       "      <td>17.2</td>\n",
       "      <td>0</td>\n",
       "      <td>0</td>\n",
       "      <td>1.5</td>\n",
       "    </tr>\n",
       "    <tr>\n",
       "      <th>19</th>\n",
       "      <td>2023-10-27</td>\n",
       "      <td>10</td>\n",
       "      <td>1</td>\n",
       "      <td>19.5</td>\n",
       "      <td>1</td>\n",
       "      <td>0</td>\n",
       "      <td>1.1</td>\n",
       "    </tr>\n",
       "    <tr>\n",
       "      <th>20</th>\n",
       "      <td>2023-11-06</td>\n",
       "      <td>8</td>\n",
       "      <td>5</td>\n",
       "      <td>23.5</td>\n",
       "      <td>1</td>\n",
       "      <td>0</td>\n",
       "      <td>0.9</td>\n",
       "    </tr>\n",
       "    <tr>\n",
       "      <th>21</th>\n",
       "      <td>2023-11-11</td>\n",
       "      <td>6</td>\n",
       "      <td>2</td>\n",
       "      <td>17.5</td>\n",
       "      <td>0</td>\n",
       "      <td>0</td>\n",
       "      <td>0.7</td>\n",
       "    </tr>\n",
       "    <tr>\n",
       "      <th>22</th>\n",
       "      <td>2023-11-26</td>\n",
       "      <td>18</td>\n",
       "      <td>7</td>\n",
       "      <td>14.0</td>\n",
       "      <td>0</td>\n",
       "      <td>0</td>\n",
       "      <td>2.3</td>\n",
       "    </tr>\n",
       "    <tr>\n",
       "      <th>23</th>\n",
       "      <td>2023-12-03</td>\n",
       "      <td>8</td>\n",
       "      <td>4</td>\n",
       "      <td>20.7</td>\n",
       "      <td>0</td>\n",
       "      <td>0</td>\n",
       "      <td>0.5</td>\n",
       "    </tr>\n",
       "    <tr>\n",
       "      <th>24</th>\n",
       "      <td>2023-12-07</td>\n",
       "      <td>23</td>\n",
       "      <td>6</td>\n",
       "      <td>17.1</td>\n",
       "      <td>1</td>\n",
       "      <td>0</td>\n",
       "      <td>1.8</td>\n",
       "    </tr>\n",
       "    <tr>\n",
       "      <th>25</th>\n",
       "      <td>2023-12-10</td>\n",
       "      <td>22</td>\n",
       "      <td>10</td>\n",
       "      <td>15.5</td>\n",
       "      <td>0</td>\n",
       "      <td>1</td>\n",
       "      <td>3.8</td>\n",
       "    </tr>\n",
       "    <tr>\n",
       "      <th>26</th>\n",
       "      <td>2023-12-15</td>\n",
       "      <td>12</td>\n",
       "      <td>6</td>\n",
       "      <td>12.5</td>\n",
       "      <td>0</td>\n",
       "      <td>0</td>\n",
       "      <td>1.5</td>\n",
       "    </tr>\n",
       "    <tr>\n",
       "      <th>27</th>\n",
       "      <td>2023-12-23</td>\n",
       "      <td>13</td>\n",
       "      <td>6</td>\n",
       "      <td>15.1</td>\n",
       "      <td>0</td>\n",
       "      <td>0</td>\n",
       "      <td>1.5</td>\n",
       "    </tr>\n",
       "    <tr>\n",
       "      <th>28</th>\n",
       "      <td>2023-12-28</td>\n",
       "      <td>19</td>\n",
       "      <td>3</td>\n",
       "      <td>15.2</td>\n",
       "      <td>1</td>\n",
       "      <td>0</td>\n",
       "      <td>2.3</td>\n",
       "    </tr>\n",
       "    <tr>\n",
       "      <th>38</th>\n",
       "      <td>2023-12-31</td>\n",
       "      <td>12</td>\n",
       "      <td>6</td>\n",
       "      <td>14.7</td>\n",
       "      <td>0</td>\n",
       "      <td>0</td>\n",
       "      <td>2.3</td>\n",
       "    </tr>\n",
       "    <tr>\n",
       "      <th>40</th>\n",
       "      <td>2024-01-14</td>\n",
       "      <td>16</td>\n",
       "      <td>5</td>\n",
       "      <td>14.4</td>\n",
       "      <td>0</td>\n",
       "      <td>0</td>\n",
       "      <td>1.2</td>\n",
       "    </tr>\n",
       "    <tr>\n",
       "      <th>42</th>\n",
       "      <td>2024-01-31</td>\n",
       "      <td>19</td>\n",
       "      <td>5</td>\n",
       "      <td>14.3</td>\n",
       "      <td>0</td>\n",
       "      <td>0</td>\n",
       "      <td>2.9</td>\n",
       "    </tr>\n",
       "    <tr>\n",
       "      <th>43</th>\n",
       "      <td>2024-02-03</td>\n",
       "      <td>9</td>\n",
       "      <td>6</td>\n",
       "      <td>17.8</td>\n",
       "      <td>0</td>\n",
       "      <td>0</td>\n",
       "      <td>1.0</td>\n",
       "    </tr>\n",
       "    <tr>\n",
       "      <th>44</th>\n",
       "      <td>2024-02-10</td>\n",
       "      <td>16</td>\n",
       "      <td>6</td>\n",
       "      <td>17.1</td>\n",
       "      <td>1</td>\n",
       "      <td>0</td>\n",
       "      <td>1.6</td>\n",
       "    </tr>\n",
       "    <tr>\n",
       "      <th>45</th>\n",
       "      <td>2024-02-17</td>\n",
       "      <td>15</td>\n",
       "      <td>4</td>\n",
       "      <td>14.3</td>\n",
       "      <td>0</td>\n",
       "      <td>0</td>\n",
       "      <td>1.6</td>\n",
       "    </tr>\n",
       "    <tr>\n",
       "      <th>46</th>\n",
       "      <td>2024-03-02</td>\n",
       "      <td>14</td>\n",
       "      <td>6</td>\n",
       "      <td>13.5</td>\n",
       "      <td>0</td>\n",
       "      <td>0</td>\n",
       "      <td>1.9</td>\n",
       "    </tr>\n",
       "    <tr>\n",
       "      <th>47</th>\n",
       "      <td>2024-03-10</td>\n",
       "      <td>9</td>\n",
       "      <td>5</td>\n",
       "      <td>14.9</td>\n",
       "      <td>0</td>\n",
       "      <td>0</td>\n",
       "      <td>1.5</td>\n",
       "    </tr>\n",
       "    <tr>\n",
       "      <th>57</th>\n",
       "      <td>2024-03-16</td>\n",
       "      <td>14</td>\n",
       "      <td>5</td>\n",
       "      <td>14.0</td>\n",
       "      <td>0</td>\n",
       "      <td>0</td>\n",
       "      <td>2.4</td>\n",
       "    </tr>\n",
       "    <tr>\n",
       "      <th>58</th>\n",
       "      <td>2024-03-30</td>\n",
       "      <td>17</td>\n",
       "      <td>2</td>\n",
       "      <td>14.5</td>\n",
       "      <td>1</td>\n",
       "      <td>0</td>\n",
       "      <td>2.9</td>\n",
       "    </tr>\n",
       "    <tr>\n",
       "      <th>59</th>\n",
       "      <td>2024-04-02</td>\n",
       "      <td>13</td>\n",
       "      <td>4</td>\n",
       "      <td>17.4</td>\n",
       "      <td>0</td>\n",
       "      <td>0</td>\n",
       "      <td>1.0</td>\n",
       "    </tr>\n",
       "    <tr>\n",
       "      <th>60</th>\n",
       "      <td>2024-04-07</td>\n",
       "      <td>17</td>\n",
       "      <td>7</td>\n",
       "      <td>20.2</td>\n",
       "      <td>1</td>\n",
       "      <td>0</td>\n",
       "      <td>1.5</td>\n",
       "    </tr>\n",
       "    <tr>\n",
       "      <th>61</th>\n",
       "      <td>2024-04-13</td>\n",
       "      <td>11</td>\n",
       "      <td>2</td>\n",
       "      <td>19.0</td>\n",
       "      <td>0</td>\n",
       "      <td>0</td>\n",
       "      <td>0.8</td>\n",
       "    </tr>\n",
       "    <tr>\n",
       "      <th>62</th>\n",
       "      <td>2024-04-28</td>\n",
       "      <td>14</td>\n",
       "      <td>1</td>\n",
       "      <td>16.8</td>\n",
       "      <td>0</td>\n",
       "      <td>1</td>\n",
       "      <td>2.3</td>\n",
       "    </tr>\n",
       "    <tr>\n",
       "      <th>63</th>\n",
       "      <td>2024-05-02</td>\n",
       "      <td>19</td>\n",
       "      <td>3</td>\n",
       "      <td>16.9</td>\n",
       "      <td>0</td>\n",
       "      <td>0</td>\n",
       "      <td>1.6</td>\n",
       "    </tr>\n",
       "    <tr>\n",
       "      <th>64</th>\n",
       "      <td>2024-05-05</td>\n",
       "      <td>11</td>\n",
       "      <td>6</td>\n",
       "      <td>21.6</td>\n",
       "      <td>1</td>\n",
       "      <td>0</td>\n",
       "      <td>1.2</td>\n",
       "    </tr>\n",
       "    <tr>\n",
       "      <th>65</th>\n",
       "      <td>2024-05-11</td>\n",
       "      <td>21</td>\n",
       "      <td>9</td>\n",
       "      <td>16.0</td>\n",
       "      <td>0</td>\n",
       "      <td>0</td>\n",
       "      <td>2.7</td>\n",
       "    </tr>\n",
       "    <tr>\n",
       "      <th>66</th>\n",
       "      <td>2024-05-14</td>\n",
       "      <td>10</td>\n",
       "      <td>5</td>\n",
       "      <td>15.0</td>\n",
       "      <td>0</td>\n",
       "      <td>0</td>\n",
       "      <td>1.7</td>\n",
       "    </tr>\n",
       "    <tr>\n",
       "      <th>67</th>\n",
       "      <td>2024-05-19</td>\n",
       "      <td>18</td>\n",
       "      <td>9</td>\n",
       "      <td>14.4</td>\n",
       "      <td>1</td>\n",
       "      <td>0</td>\n",
       "      <td>3.1</td>\n",
       "    </tr>\n",
       "  </tbody>\n",
       "</table>\n",
       "</div>"
      ],
      "text/plain": [
       "          Date  Sh SoT  Dist FK PK xG_y\n",
       "0   2023-08-13  18   6  19.6  0  0  1.3\n",
       "1   2023-08-19  17   6  13.8  0  0  1.7\n",
       "2   2023-08-26  17   6  16.6  1  0  2.1\n",
       "4   2023-09-02  21  11  19.3  0  0  2.2\n",
       "5   2023-09-16  28  10  16.4  0  0  2.1\n",
       "6   2023-09-24  13   5  16.0  0  0  1.4\n",
       "7   2023-09-30  24   8  19.8  0  0  2.2\n",
       "8   2023-10-07  15   4  16.9  1  0  1.9\n",
       "9   2023-10-23  15   5  17.2  0  0  1.5\n",
       "19  2023-10-27  10   1  19.5  1  0  1.1\n",
       "20  2023-11-06   8   5  23.5  1  0  0.9\n",
       "21  2023-11-11   6   2  17.5  0  0  0.7\n",
       "22  2023-11-26  18   7  14.0  0  0  2.3\n",
       "23  2023-12-03   8   4  20.7  0  0  0.5\n",
       "24  2023-12-07  23   6  17.1  1  0  1.8\n",
       "25  2023-12-10  22  10  15.5  0  1  3.8\n",
       "26  2023-12-15  12   6  12.5  0  0  1.5\n",
       "27  2023-12-23  13   6  15.1  0  0  1.5\n",
       "28  2023-12-28  19   3  15.2  1  0  2.3\n",
       "38  2023-12-31  12   6  14.7  0  0  2.3\n",
       "40  2024-01-14  16   5  14.4  0  0  1.2\n",
       "42  2024-01-31  19   5  14.3  0  0  2.9\n",
       "43  2024-02-03   9   6  17.8  0  0  1.0\n",
       "44  2024-02-10  16   6  17.1  1  0  1.6\n",
       "45  2024-02-17  15   4  14.3  0  0  1.6\n",
       "46  2024-03-02  14   6  13.5  0  0  1.9\n",
       "47  2024-03-10   9   5  14.9  0  0  1.5\n",
       "57  2024-03-16  14   5  14.0  0  0  2.4\n",
       "58  2024-03-30  17   2  14.5  1  0  2.9\n",
       "59  2024-04-02  13   4  17.4  0  0  1.0\n",
       "60  2024-04-07  17   7  20.2  1  0  1.5\n",
       "61  2024-04-13  11   2  19.0  0  0  0.8\n",
       "62  2024-04-28  14   1  16.8  0  1  2.3\n",
       "63  2024-05-02  19   3  16.9  0  0  1.6\n",
       "64  2024-05-05  11   6  21.6  1  0  1.2\n",
       "65  2024-05-11  21   9  16.0  0  0  2.7\n",
       "66  2024-05-14  10   5  15.0  0  0  1.7\n",
       "67  2024-05-19  18   9  14.4  1  0  3.1"
      ]
     },
     "execution_count": 45,
     "metadata": {},
     "output_type": "execute_result"
    }
   ],
   "source": [
    "prem_df[prem_df['Team'] == 'Tottenham-Hotspur'][[\"Date\", \"Sh\", \"SoT\", \"Dist\", \"FK\", \"PK\", \"xG_y\"]].head(38)"
   ]
  },
  {
   "cell_type": "markdown",
   "metadata": {},
   "source": [
    "## Store the DataFrame to CSV file"
   ]
  },
  {
   "cell_type": "code",
   "execution_count": 46,
   "metadata": {},
   "outputs": [],
   "source": [
    "prem_df.to_csv('prem_data.csv')"
   ]
  }
 ],
 "metadata": {
  "kernelspec": {
   "display_name": "base",
   "language": "python",
   "name": "python3"
  },
  "language_info": {
   "codemirror_mode": {
    "name": "ipython",
    "version": 3
   },
   "file_extension": ".py",
   "mimetype": "text/x-python",
   "name": "python",
   "nbconvert_exporter": "python",
   "pygments_lexer": "ipython3",
   "version": "3.12.4"
  }
 },
 "nbformat": 4,
 "nbformat_minor": 2
}
